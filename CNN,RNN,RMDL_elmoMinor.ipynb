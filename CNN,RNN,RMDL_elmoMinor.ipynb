{
  "nbformat": 4,
  "nbformat_minor": 0,
  "metadata": {
    "colab": {
      "name": "Copy of CNN,RNN,RMDL_elmoMinor.ipynb",
      "provenance": [],
      "collapsed_sections": []
    },
    "kernelspec": {
      "display_name": "Python 3",
      "name": "python3"
    },
    "accelerator": "GPU"
  },
  "cells": [
    {
      "cell_type": "markdown",
      "metadata": {
        "id": "3dAw1xhlSZjk"
      },
      "source": [
        "# Elmo"
      ]
    },
    {
      "cell_type": "markdown",
      "metadata": {
        "id": "Pv51hxXAWLqy"
      },
      "source": [
        "## Import Packages"
      ]
    },
    {
      "cell_type": "code",
      "metadata": {
        "id": "YWD2PY8jfudF",
        "colab": {
          "base_uri": "https://localhost:8080/"
        },
        "outputId": "65264ca3-185b-4f74-c728-e00a2be26f6a"
      },
      "source": [
        "!pip install tensorflow==2.3\n",
        "!pip install \"tensorflow_hub>=0.6.0\"\n",
        "!pip3 install tensorflow_text==2.3"
      ],
      "execution_count": 7,
      "outputs": [
        {
          "output_type": "stream",
          "text": [
            "Requirement already satisfied: tensorflow==2.3 in /usr/local/lib/python3.6/dist-packages (2.3.0)\n",
            "Requirement already satisfied: google-pasta>=0.1.8 in /usr/local/lib/python3.6/dist-packages (from tensorflow==2.3) (0.2.0)\n",
            "Requirement already satisfied: numpy<1.19.0,>=1.16.0 in /usr/local/lib/python3.6/dist-packages (from tensorflow==2.3) (1.18.5)\n",
            "Requirement already satisfied: tensorboard<3,>=2.3.0 in /usr/local/lib/python3.6/dist-packages (from tensorflow==2.3) (2.3.0)\n",
            "Requirement already satisfied: wheel>=0.26 in /usr/local/lib/python3.6/dist-packages (from tensorflow==2.3) (0.36.1)\n",
            "Requirement already satisfied: absl-py>=0.7.0 in /usr/local/lib/python3.6/dist-packages (from tensorflow==2.3) (0.10.0)\n",
            "Requirement already satisfied: grpcio>=1.8.6 in /usr/local/lib/python3.6/dist-packages (from tensorflow==2.3) (1.34.0)\n",
            "Requirement already satisfied: gast==0.3.3 in /usr/local/lib/python3.6/dist-packages (from tensorflow==2.3) (0.3.3)\n",
            "Requirement already satisfied: six>=1.12.0 in /usr/local/lib/python3.6/dist-packages (from tensorflow==2.3) (1.15.0)\n",
            "Requirement already satisfied: h5py<2.11.0,>=2.10.0 in /usr/local/lib/python3.6/dist-packages (from tensorflow==2.3) (2.10.0)\n",
            "Requirement already satisfied: opt-einsum>=2.3.2 in /usr/local/lib/python3.6/dist-packages (from tensorflow==2.3) (3.3.0)\n",
            "Requirement already satisfied: protobuf>=3.9.2 in /usr/local/lib/python3.6/dist-packages (from tensorflow==2.3) (3.12.4)\n",
            "Requirement already satisfied: tensorflow-estimator<2.4.0,>=2.3.0 in /usr/local/lib/python3.6/dist-packages (from tensorflow==2.3) (2.3.0)\n",
            "Requirement already satisfied: termcolor>=1.1.0 in /usr/local/lib/python3.6/dist-packages (from tensorflow==2.3) (1.1.0)\n",
            "Requirement already satisfied: keras-preprocessing<1.2,>=1.1.1 in /usr/local/lib/python3.6/dist-packages (from tensorflow==2.3) (1.1.2)\n",
            "Requirement already satisfied: wrapt>=1.11.1 in /usr/local/lib/python3.6/dist-packages (from tensorflow==2.3) (1.12.1)\n",
            "Requirement already satisfied: astunparse==1.6.3 in /usr/local/lib/python3.6/dist-packages (from tensorflow==2.3) (1.6.3)\n",
            "Requirement already satisfied: scipy==1.4.1 in /usr/local/lib/python3.6/dist-packages (from tensorflow==2.3) (1.4.1)\n",
            "Requirement already satisfied: werkzeug>=0.11.15 in /usr/local/lib/python3.6/dist-packages (from tensorboard<3,>=2.3.0->tensorflow==2.3) (1.0.1)\n",
            "Requirement already satisfied: markdown>=2.6.8 in /usr/local/lib/python3.6/dist-packages (from tensorboard<3,>=2.3.0->tensorflow==2.3) (3.3.3)\n",
            "Requirement already satisfied: tensorboard-plugin-wit>=1.6.0 in /usr/local/lib/python3.6/dist-packages (from tensorboard<3,>=2.3.0->tensorflow==2.3) (1.7.0)\n",
            "Requirement already satisfied: google-auth-oauthlib<0.5,>=0.4.1 in /usr/local/lib/python3.6/dist-packages (from tensorboard<3,>=2.3.0->tensorflow==2.3) (0.4.2)\n",
            "Requirement already satisfied: google-auth<2,>=1.6.3 in /usr/local/lib/python3.6/dist-packages (from tensorboard<3,>=2.3.0->tensorflow==2.3) (1.17.2)\n",
            "Requirement already satisfied: requests<3,>=2.21.0 in /usr/local/lib/python3.6/dist-packages (from tensorboard<3,>=2.3.0->tensorflow==2.3) (2.23.0)\n",
            "Requirement already satisfied: setuptools>=41.0.0 in /usr/local/lib/python3.6/dist-packages (from tensorboard<3,>=2.3.0->tensorflow==2.3) (50.3.2)\n",
            "Requirement already satisfied: importlib-metadata; python_version < \"3.8\" in /usr/local/lib/python3.6/dist-packages (from markdown>=2.6.8->tensorboard<3,>=2.3.0->tensorflow==2.3) (3.1.1)\n",
            "Requirement already satisfied: requests-oauthlib>=0.7.0 in /usr/local/lib/python3.6/dist-packages (from google-auth-oauthlib<0.5,>=0.4.1->tensorboard<3,>=2.3.0->tensorflow==2.3) (1.3.0)\n",
            "Requirement already satisfied: pyasn1-modules>=0.2.1 in /usr/local/lib/python3.6/dist-packages (from google-auth<2,>=1.6.3->tensorboard<3,>=2.3.0->tensorflow==2.3) (0.2.8)\n",
            "Requirement already satisfied: rsa<5,>=3.1.4; python_version >= \"3\" in /usr/local/lib/python3.6/dist-packages (from google-auth<2,>=1.6.3->tensorboard<3,>=2.3.0->tensorflow==2.3) (4.6)\n",
            "Requirement already satisfied: cachetools<5.0,>=2.0.0 in /usr/local/lib/python3.6/dist-packages (from google-auth<2,>=1.6.3->tensorboard<3,>=2.3.0->tensorflow==2.3) (4.1.1)\n",
            "Requirement already satisfied: idna<3,>=2.5 in /usr/local/lib/python3.6/dist-packages (from requests<3,>=2.21.0->tensorboard<3,>=2.3.0->tensorflow==2.3) (2.10)\n",
            "Requirement already satisfied: urllib3!=1.25.0,!=1.25.1,<1.26,>=1.21.1 in /usr/local/lib/python3.6/dist-packages (from requests<3,>=2.21.0->tensorboard<3,>=2.3.0->tensorflow==2.3) (1.24.3)\n",
            "Requirement already satisfied: certifi>=2017.4.17 in /usr/local/lib/python3.6/dist-packages (from requests<3,>=2.21.0->tensorboard<3,>=2.3.0->tensorflow==2.3) (2020.12.5)\n",
            "Requirement already satisfied: chardet<4,>=3.0.2 in /usr/local/lib/python3.6/dist-packages (from requests<3,>=2.21.0->tensorboard<3,>=2.3.0->tensorflow==2.3) (3.0.4)\n",
            "Requirement already satisfied: zipp>=0.5 in /usr/local/lib/python3.6/dist-packages (from importlib-metadata; python_version < \"3.8\"->markdown>=2.6.8->tensorboard<3,>=2.3.0->tensorflow==2.3) (3.4.0)\n",
            "Requirement already satisfied: oauthlib>=3.0.0 in /usr/local/lib/python3.6/dist-packages (from requests-oauthlib>=0.7.0->google-auth-oauthlib<0.5,>=0.4.1->tensorboard<3,>=2.3.0->tensorflow==2.3) (3.1.0)\n",
            "Requirement already satisfied: pyasn1<0.5.0,>=0.4.6 in /usr/local/lib/python3.6/dist-packages (from pyasn1-modules>=0.2.1->google-auth<2,>=1.6.3->tensorboard<3,>=2.3.0->tensorflow==2.3) (0.4.8)\n",
            "Requirement already satisfied: tensorflow_hub>=0.6.0 in /usr/local/lib/python3.6/dist-packages (0.10.0)\n",
            "Requirement already satisfied: numpy>=1.12.0 in /usr/local/lib/python3.6/dist-packages (from tensorflow_hub>=0.6.0) (1.18.5)\n",
            "Requirement already satisfied: protobuf>=3.8.0 in /usr/local/lib/python3.6/dist-packages (from tensorflow_hub>=0.6.0) (3.12.4)\n",
            "Requirement already satisfied: six>=1.9 in /usr/local/lib/python3.6/dist-packages (from protobuf>=3.8.0->tensorflow_hub>=0.6.0) (1.15.0)\n",
            "Requirement already satisfied: setuptools in /usr/local/lib/python3.6/dist-packages (from protobuf>=3.8.0->tensorflow_hub>=0.6.0) (50.3.2)\n",
            "Collecting tensorflow_text==2.3\n",
            "\u001b[?25l  Downloading https://files.pythonhosted.org/packages/28/b2/2dbd90b93913afd07e6101b8b84327c401c394e60141c1e98590038060b3/tensorflow_text-2.3.0-cp36-cp36m-manylinux1_x86_64.whl (2.6MB)\n",
            "\u001b[K     |████████████████████████████████| 2.6MB 13.8MB/s \n",
            "\u001b[?25hRequirement already satisfied: tensorflow<2.4,>=2.3.0 in /usr/local/lib/python3.6/dist-packages (from tensorflow_text==2.3) (2.3.0)\n",
            "Requirement already satisfied: gast==0.3.3 in /usr/local/lib/python3.6/dist-packages (from tensorflow<2.4,>=2.3.0->tensorflow_text==2.3) (0.3.3)\n",
            "Requirement already satisfied: grpcio>=1.8.6 in /usr/local/lib/python3.6/dist-packages (from tensorflow<2.4,>=2.3.0->tensorflow_text==2.3) (1.34.0)\n",
            "Requirement already satisfied: numpy<1.19.0,>=1.16.0 in /usr/local/lib/python3.6/dist-packages (from tensorflow<2.4,>=2.3.0->tensorflow_text==2.3) (1.18.5)\n",
            "Requirement already satisfied: opt-einsum>=2.3.2 in /usr/local/lib/python3.6/dist-packages (from tensorflow<2.4,>=2.3.0->tensorflow_text==2.3) (3.3.0)\n",
            "Requirement already satisfied: astunparse==1.6.3 in /usr/local/lib/python3.6/dist-packages (from tensorflow<2.4,>=2.3.0->tensorflow_text==2.3) (1.6.3)\n",
            "Requirement already satisfied: absl-py>=0.7.0 in /usr/local/lib/python3.6/dist-packages (from tensorflow<2.4,>=2.3.0->tensorflow_text==2.3) (0.10.0)\n",
            "Requirement already satisfied: tensorflow-estimator<2.4.0,>=2.3.0 in /usr/local/lib/python3.6/dist-packages (from tensorflow<2.4,>=2.3.0->tensorflow_text==2.3) (2.3.0)\n",
            "Requirement already satisfied: tensorboard<3,>=2.3.0 in /usr/local/lib/python3.6/dist-packages (from tensorflow<2.4,>=2.3.0->tensorflow_text==2.3) (2.3.0)\n",
            "Requirement already satisfied: scipy==1.4.1 in /usr/local/lib/python3.6/dist-packages (from tensorflow<2.4,>=2.3.0->tensorflow_text==2.3) (1.4.1)\n",
            "Requirement already satisfied: keras-preprocessing<1.2,>=1.1.1 in /usr/local/lib/python3.6/dist-packages (from tensorflow<2.4,>=2.3.0->tensorflow_text==2.3) (1.1.2)\n",
            "Requirement already satisfied: six>=1.12.0 in /usr/local/lib/python3.6/dist-packages (from tensorflow<2.4,>=2.3.0->tensorflow_text==2.3) (1.15.0)\n",
            "Requirement already satisfied: termcolor>=1.1.0 in /usr/local/lib/python3.6/dist-packages (from tensorflow<2.4,>=2.3.0->tensorflow_text==2.3) (1.1.0)\n",
            "Requirement already satisfied: h5py<2.11.0,>=2.10.0 in /usr/local/lib/python3.6/dist-packages (from tensorflow<2.4,>=2.3.0->tensorflow_text==2.3) (2.10.0)\n",
            "Requirement already satisfied: google-pasta>=0.1.8 in /usr/local/lib/python3.6/dist-packages (from tensorflow<2.4,>=2.3.0->tensorflow_text==2.3) (0.2.0)\n",
            "Requirement already satisfied: wheel>=0.26 in /usr/local/lib/python3.6/dist-packages (from tensorflow<2.4,>=2.3.0->tensorflow_text==2.3) (0.36.1)\n",
            "Requirement already satisfied: protobuf>=3.9.2 in /usr/local/lib/python3.6/dist-packages (from tensorflow<2.4,>=2.3.0->tensorflow_text==2.3) (3.12.4)\n",
            "Requirement already satisfied: wrapt>=1.11.1 in /usr/local/lib/python3.6/dist-packages (from tensorflow<2.4,>=2.3.0->tensorflow_text==2.3) (1.12.1)\n",
            "Requirement already satisfied: markdown>=2.6.8 in /usr/local/lib/python3.6/dist-packages (from tensorboard<3,>=2.3.0->tensorflow<2.4,>=2.3.0->tensorflow_text==2.3) (3.3.3)\n",
            "Requirement already satisfied: requests<3,>=2.21.0 in /usr/local/lib/python3.6/dist-packages (from tensorboard<3,>=2.3.0->tensorflow<2.4,>=2.3.0->tensorflow_text==2.3) (2.23.0)\n",
            "Requirement already satisfied: werkzeug>=0.11.15 in /usr/local/lib/python3.6/dist-packages (from tensorboard<3,>=2.3.0->tensorflow<2.4,>=2.3.0->tensorflow_text==2.3) (1.0.1)\n",
            "Requirement already satisfied: setuptools>=41.0.0 in /usr/local/lib/python3.6/dist-packages (from tensorboard<3,>=2.3.0->tensorflow<2.4,>=2.3.0->tensorflow_text==2.3) (50.3.2)\n",
            "Requirement already satisfied: tensorboard-plugin-wit>=1.6.0 in /usr/local/lib/python3.6/dist-packages (from tensorboard<3,>=2.3.0->tensorflow<2.4,>=2.3.0->tensorflow_text==2.3) (1.7.0)\n",
            "Requirement already satisfied: google-auth-oauthlib<0.5,>=0.4.1 in /usr/local/lib/python3.6/dist-packages (from tensorboard<3,>=2.3.0->tensorflow<2.4,>=2.3.0->tensorflow_text==2.3) (0.4.2)\n",
            "Requirement already satisfied: google-auth<2,>=1.6.3 in /usr/local/lib/python3.6/dist-packages (from tensorboard<3,>=2.3.0->tensorflow<2.4,>=2.3.0->tensorflow_text==2.3) (1.17.2)\n",
            "Requirement already satisfied: importlib-metadata; python_version < \"3.8\" in /usr/local/lib/python3.6/dist-packages (from markdown>=2.6.8->tensorboard<3,>=2.3.0->tensorflow<2.4,>=2.3.0->tensorflow_text==2.3) (3.1.1)\n",
            "Requirement already satisfied: idna<3,>=2.5 in /usr/local/lib/python3.6/dist-packages (from requests<3,>=2.21.0->tensorboard<3,>=2.3.0->tensorflow<2.4,>=2.3.0->tensorflow_text==2.3) (2.10)\n",
            "Requirement already satisfied: urllib3!=1.25.0,!=1.25.1,<1.26,>=1.21.1 in /usr/local/lib/python3.6/dist-packages (from requests<3,>=2.21.0->tensorboard<3,>=2.3.0->tensorflow<2.4,>=2.3.0->tensorflow_text==2.3) (1.24.3)\n",
            "Requirement already satisfied: certifi>=2017.4.17 in /usr/local/lib/python3.6/dist-packages (from requests<3,>=2.21.0->tensorboard<3,>=2.3.0->tensorflow<2.4,>=2.3.0->tensorflow_text==2.3) (2020.12.5)\n",
            "Requirement already satisfied: chardet<4,>=3.0.2 in /usr/local/lib/python3.6/dist-packages (from requests<3,>=2.21.0->tensorboard<3,>=2.3.0->tensorflow<2.4,>=2.3.0->tensorflow_text==2.3) (3.0.4)\n",
            "Requirement already satisfied: requests-oauthlib>=0.7.0 in /usr/local/lib/python3.6/dist-packages (from google-auth-oauthlib<0.5,>=0.4.1->tensorboard<3,>=2.3.0->tensorflow<2.4,>=2.3.0->tensorflow_text==2.3) (1.3.0)\n",
            "Requirement already satisfied: pyasn1-modules>=0.2.1 in /usr/local/lib/python3.6/dist-packages (from google-auth<2,>=1.6.3->tensorboard<3,>=2.3.0->tensorflow<2.4,>=2.3.0->tensorflow_text==2.3) (0.2.8)\n",
            "Requirement already satisfied: cachetools<5.0,>=2.0.0 in /usr/local/lib/python3.6/dist-packages (from google-auth<2,>=1.6.3->tensorboard<3,>=2.3.0->tensorflow<2.4,>=2.3.0->tensorflow_text==2.3) (4.1.1)\n",
            "Requirement already satisfied: rsa<5,>=3.1.4; python_version >= \"3\" in /usr/local/lib/python3.6/dist-packages (from google-auth<2,>=1.6.3->tensorboard<3,>=2.3.0->tensorflow<2.4,>=2.3.0->tensorflow_text==2.3) (4.6)\n",
            "Requirement already satisfied: zipp>=0.5 in /usr/local/lib/python3.6/dist-packages (from importlib-metadata; python_version < \"3.8\"->markdown>=2.6.8->tensorboard<3,>=2.3.0->tensorflow<2.4,>=2.3.0->tensorflow_text==2.3) (3.4.0)\n",
            "Requirement already satisfied: oauthlib>=3.0.0 in /usr/local/lib/python3.6/dist-packages (from requests-oauthlib>=0.7.0->google-auth-oauthlib<0.5,>=0.4.1->tensorboard<3,>=2.3.0->tensorflow<2.4,>=2.3.0->tensorflow_text==2.3) (3.1.0)\n",
            "Requirement already satisfied: pyasn1<0.5.0,>=0.4.6 in /usr/local/lib/python3.6/dist-packages (from pyasn1-modules>=0.2.1->google-auth<2,>=1.6.3->tensorboard<3,>=2.3.0->tensorflow<2.4,>=2.3.0->tensorflow_text==2.3) (0.4.8)\n",
            "Installing collected packages: tensorflow-text\n",
            "Successfully installed tensorflow-text-2.3.0\n"
          ],
          "name": "stdout"
        }
      ]
    },
    {
      "cell_type": "code",
      "metadata": {
        "id": "E12entNbSBuj",
        "colab": {
          "base_uri": "https://localhost:8080/"
        },
        "outputId": "499aa739-ed11-41e1-d9db-fe4fb9b81641"
      },
      "source": [
        "#Load packages\n",
        "import tensorflow as tf \n",
        "from tensorflow.keras.preprocessing.text import Tokenizer \n",
        "from tensorflow.keras.preprocessing.sequence import pad_sequences \n",
        "from sklearn import metrics, preprocessing,model_selection \n",
        "from sklearn.metrics import accuracy_score \n",
        "from tensorflow import keras\n",
        "from tensorflow.keras.layers import Input, Lambda, Dense \n",
        "from tensorflow.keras.models import Model \n",
        "import tensorflow.keras.backend as K \n",
        "import matplotlib.pyplot as pit \n",
        "import seaborn as sns\n",
        "import numpy as np \n",
        "import string \n",
        "import pandas as pd \n",
        "import re\n",
        "import spacy \n",
        "from nltk.corpus import stopwords \n",
        "from sklearn.feature_extraction.stop_words import ENGLISH_STOP_WORDS \n",
        "from spacy.lang.en import English \n",
        "spacy.load('en')\n",
        "parser = English()"
      ],
      "execution_count": 8,
      "outputs": [
        {
          "output_type": "stream",
          "text": [
            "/usr/local/lib/python3.6/dist-packages/sklearn/utils/deprecation.py:144: FutureWarning: The sklearn.feature_extraction.stop_words module is  deprecated in version 0.22 and will be removed in version 0.24. The corresponding classes / functions should instead be imported from sklearn.feature_extraction.text. Anything that cannot be imported from sklearn.feature_extraction.text is now part of the private API.\n",
            "  warnings.warn(message, FutureWarning)\n"
          ],
          "name": "stderr"
        }
      ]
    },
    {
      "cell_type": "code",
      "metadata": {
        "colab": {
          "base_uri": "https://localhost:8080/"
        },
        "id": "AFZCxQ7gf-Sm",
        "outputId": "cb3dd8b8-82b1-4d26-faaa-70ce925ae58e"
      },
      "source": [
        "from google.colab import drive\n",
        "drive.mount('/content/drive')"
      ],
      "execution_count": 9,
      "outputs": [
        {
          "output_type": "stream",
          "text": [
            "Mounted at /content/drive\n"
          ],
          "name": "stdout"
        }
      ]
    },
    {
      "cell_type": "markdown",
      "metadata": {
        "id": "ZnZd4aZwY8cM"
      },
      "source": [
        "##load Elmo"
      ]
    },
    {
      "cell_type": "code",
      "metadata": {
        "id": "jE_okjTsZAhH"
      },
      "source": [
        "# get elmo from tensorflow hub\n",
        "import tensorflow_hub as hub \n",
        "import tensorflow as tf \n",
        "\n",
        "embed = hub.load('https://tfhub.dev/google/elmo/2')"
      ],
      "execution_count": 44,
      "outputs": []
    },
    {
      "cell_type": "code",
      "metadata": {
        "id": "Ol-VYaukyJPk"
      },
      "source": [
        "def ElmoEmbedding(x):\n",
        "  embeddings = embed.signatures[\"default\"](tf.constant(x))[\"elmo\"]\n",
        "  return embeddings"
      ],
      "execution_count": 72,
      "outputs": []
    },
    {
      "cell_type": "markdown",
      "metadata": {
        "id": "ETeG5NvTZBJI"
      },
      "source": [
        "## Pre-process Data"
      ]
    },
    {
      "cell_type": "code",
      "metadata": {
        "colab": {
          "base_uri": "https://localhost:8080/",
          "height": 206
        },
        "id": "GlIQ9ew19EO3",
        "outputId": "fd8b7c19-a8ef-44e7-edff-09375e54f797"
      },
      "source": [
        "import pandas as pd\n",
        "#load training and testing dataset\n",
        "train_df = pd.read_csv('/content/drive/MyDrive/hotel-review-sentiment-analysis/Clean_train_data.csv')\n",
        "test_df = pd.read_csv('/content/drive/MyDrive/hotel-review-sentiment-analysis/Clean_test_data.csv')\n",
        "train_df.head()"
      ],
      "execution_count": 92,
      "outputs": [
        {
          "output_type": "execute_result",
          "data": {
            "text/html": [
              "<div>\n",
              "<style scoped>\n",
              "    .dataframe tbody tr th:only-of-type {\n",
              "        vertical-align: middle;\n",
              "    }\n",
              "\n",
              "    .dataframe tbody tr th {\n",
              "        vertical-align: top;\n",
              "    }\n",
              "\n",
              "    .dataframe thead th {\n",
              "        text-align: right;\n",
              "    }\n",
              "</style>\n",
              "<table border=\"1\" class=\"dataframe\">\n",
              "  <thead>\n",
              "    <tr style=\"text-align: right;\">\n",
              "      <th></th>\n",
              "      <th>text</th>\n",
              "      <th>label</th>\n",
              "    </tr>\n",
              "  </thead>\n",
              "  <tbody>\n",
              "    <tr>\n",
              "      <th>0</th>\n",
              "      <td>staff great love location small single room fa...</td>\n",
              "      <td>1</td>\n",
              "    </tr>\n",
              "    <tr>\n",
              "      <th>1</th>\n",
              "      <td>insect around room dirty bathroom air conditio...</td>\n",
              "      <td>0</td>\n",
              "    </tr>\n",
              "    <tr>\n",
              "      <th>2</th>\n",
              "      <td>rather like feel room open plan great idea hotel</td>\n",
              "      <td>1</td>\n",
              "    </tr>\n",
              "    <tr>\n",
              "      <th>3</th>\n",
              "      <td>hotel clean bed comfortable</td>\n",
              "      <td>1</td>\n",
              "    </tr>\n",
              "    <tr>\n",
              "      <th>4</th>\n",
              "      <td>fan bathroom seem always noise road also bite ...</td>\n",
              "      <td>0</td>\n",
              "    </tr>\n",
              "  </tbody>\n",
              "</table>\n",
              "</div>"
            ],
            "text/plain": [
              "                                                text  label\n",
              "0  staff great love location small single room fa...      1\n",
              "1  insect around room dirty bathroom air conditio...      0\n",
              "2   rather like feel room open plan great idea hotel      1\n",
              "3                        hotel clean bed comfortable      1\n",
              "4  fan bathroom seem always noise road also bite ...      0"
            ]
          },
          "metadata": {
            "tags": []
          },
          "execution_count": 92
        }
      ]
    },
    {
      "cell_type": "code",
      "metadata": {
        "colab": {
          "base_uri": "https://localhost:8080/"
        },
        "id": "h8JVAwDg55Ll",
        "outputId": "dc5f6137-bec0-4195-c405-9e3f0b7c9d72"
      },
      "source": [
        "print(len(test_df.label))"
      ],
      "execution_count": 47,
      "outputs": [
        {
          "output_type": "stream",
          "text": [
            "30000\n"
          ],
          "name": "stdout"
        }
      ]
    },
    {
      "cell_type": "code",
      "metadata": {
        "id": "godVTOgRRv_x"
      },
      "source": [
        "# Convert sentence to elmo vector\n",
        "import tensorflow as tf\n",
        "import tensorflow_hub as hub\n",
        "import pandas as pd\n",
        "from sklearn import preprocessing\n",
        "import keras\n",
        "import numpy as np\n",
        "\n",
        "train_df['text'] = train_df['text'].astype(str)\n",
        "test_df['text'] = test_df['text'].astype(str)\n",
        "\n",
        "train_df = train_df[:100]\n",
        "test_df = test_df[:100]\n",
        "\n",
        "train_x = list(train_df['text'])\n",
        "train_y = list(train_df['label'])\n",
        "test_x  = list(test_df['text'])\n",
        "test_y  = list(test_df['label'])"
      ],
      "execution_count": 83,
      "outputs": []
    },
    {
      "cell_type": "code",
      "metadata": {
        "id": "fBwjiv878oq1"
      },
      "source": [
        "# Elmo training, Extract elmo embedding\n",
        "elmo_train = ElmoEmbedding(train_x)\n",
        "elmo_test  = ElmoEmbedding(test_x)"
      ],
      "execution_count": 84,
      "outputs": []
    },
    {
      "cell_type": "code",
      "metadata": {
        "id": "g1RAfSYZhFMY"
      },
      "source": [
        "train_x = elmo_train\n",
        "train_y = train_df['label']\n",
        "test_x  = elmo_train\n",
        "test_y  = test_df['label']"
      ],
      "execution_count": 85,
      "outputs": []
    },
    {
      "cell_type": "code",
      "metadata": {
        "id": "WetnZy8jadl_",
        "colab": {
          "base_uri": "https://localhost:8080/"
        },
        "outputId": "32a3393c-cf97-4e10-ea5b-b6d8c04e1bcb"
      },
      "source": [
        "#elmo_train.shape\n",
        "elmo_test.shape"
      ],
      "execution_count": 76,
      "outputs": [
        {
          "output_type": "execute_result",
          "data": {
            "text/plain": [
              "TensorShape([100, 155, 1024])"
            ]
          },
          "metadata": {
            "tags": []
          },
          "execution_count": 76
        }
      ]
    },
    {
      "cell_type": "markdown",
      "metadata": {
        "id": "ol72xug2UbO2"
      },
      "source": [
        "## With cnn"
      ]
    },
    {
      "cell_type": "code",
      "metadata": {
        "id": "wO4K4FxhW78J"
      },
      "source": [
        "#model parameter\n",
        "vocab_size = 1000\n",
        "embedding_dim = 1024\n",
        "max_length = 512\n",
        "trunc_type = 'post'\n",
        "padding_type = 'post'\n",
        "oov_tok = \"<OOV>\"\n",
        "training_portion = 0.7"
      ],
      "execution_count": 86,
      "outputs": []
    },
    {
      "cell_type": "code",
      "metadata": {
        "id": "v9XLRpCjUgMF",
        "colab": {
          "base_uri": "https://localhost:8080/"
        },
        "outputId": "ca7c12f5-024c-4074-aafc-6fa57618b80b"
      },
      "source": [
        "#return model\n",
        "model = tf.keras.Sequential([\n",
        "  tf.keras.layers.Conv1D(128, 5, activation='relu'),\n",
        "  tf.keras.layers.GlobalMaxPooling1D(),\n",
        "  tf.keras.layers.Dense(24, activation='relu'),\n",
        "  tf.keras.layers.Dense(1, activation='sigmoid')\n",
        "])\n",
        "\n",
        "# compile model\n",
        "model.compile(loss='binary_crossentropy', optimizer='adam',metrics=['accuracy'])\n",
        "\n",
        "model.build(input_shape=[len(train_x),max_length,embedding_dim])\n",
        "\n",
        "# model summary\n",
        "model.summary ()"
      ],
      "execution_count": 87,
      "outputs": [
        {
          "output_type": "stream",
          "text": [
            "Model: \"sequential_6\"\n",
            "_________________________________________________________________\n",
            "Layer (type)                 Output Shape              Param #   \n",
            "=================================================================\n",
            "conv1d_6 (Conv1D)            (100, 508, 128)           655488    \n",
            "_________________________________________________________________\n",
            "global_max_pooling1d_6 (Glob (100, 128)                0         \n",
            "_________________________________________________________________\n",
            "dense_12 (Dense)             (100, 24)                 3096      \n",
            "_________________________________________________________________\n",
            "dense_13 (Dense)             (100, 1)                  25        \n",
            "=================================================================\n",
            "Total params: 658,609\n",
            "Trainable params: 658,609\n",
            "Non-trainable params: 0\n",
            "_________________________________________________________________\n"
          ],
          "name": "stdout"
        }
      ]
    },
    {
      "cell_type": "code",
      "metadata": {
        "id": "v7ojotGffTm8",
        "colab": {
          "base_uri": "https://localhost:8080/"
        },
        "outputId": "8e8edaae-1520-447e-d1ca-1459f9850ff3"
      },
      "source": [
        "history = model.fit(np.array(train_x), np.array(train_y), verbose=1, epochs=20,validation_data=(np.array(test_x), np.array(test_y)))\n",
        "model.save_weights('./elmo-model.h5')"
      ],
      "execution_count": 91,
      "outputs": [
        {
          "output_type": "stream",
          "text": [
            "Epoch 1/20\n",
            "10/10 [==============================] - 0s 15ms/step - loss: 1.2746e-04 - accuracy: 1.0000 - val_loss: 4.9375 - val_accuracy: 0.5100\n",
            "Epoch 2/20\n",
            "10/10 [==============================] - 0s 6ms/step - loss: 1.1173e-04 - accuracy: 1.0000 - val_loss: 5.0084 - val_accuracy: 0.5100\n",
            "Epoch 3/20\n",
            "10/10 [==============================] - 0s 6ms/step - loss: 9.9771e-05 - accuracy: 1.0000 - val_loss: 5.0825 - val_accuracy: 0.5100\n",
            "Epoch 4/20\n",
            "10/10 [==============================] - 0s 6ms/step - loss: 8.9149e-05 - accuracy: 1.0000 - val_loss: 5.1388 - val_accuracy: 0.5100\n",
            "Epoch 5/20\n",
            "10/10 [==============================] - 0s 6ms/step - loss: 8.0385e-05 - accuracy: 1.0000 - val_loss: 5.1978 - val_accuracy: 0.5100\n",
            "Epoch 6/20\n",
            "10/10 [==============================] - 0s 6ms/step - loss: 7.3136e-05 - accuracy: 1.0000 - val_loss: 5.2611 - val_accuracy: 0.5100\n",
            "Epoch 7/20\n",
            "10/10 [==============================] - 0s 6ms/step - loss: 6.6440e-05 - accuracy: 1.0000 - val_loss: 5.3193 - val_accuracy: 0.5100\n",
            "Epoch 8/20\n",
            "10/10 [==============================] - 0s 6ms/step - loss: 5.9970e-05 - accuracy: 1.0000 - val_loss: 5.3679 - val_accuracy: 0.5100\n",
            "Epoch 9/20\n",
            "10/10 [==============================] - 0s 6ms/step - loss: 5.5489e-05 - accuracy: 1.0000 - val_loss: 5.4176 - val_accuracy: 0.5100\n",
            "Epoch 10/20\n",
            "10/10 [==============================] - 0s 7ms/step - loss: 5.1063e-05 - accuracy: 1.0000 - val_loss: 5.4614 - val_accuracy: 0.5100\n",
            "Epoch 11/20\n",
            "10/10 [==============================] - 0s 6ms/step - loss: 4.7404e-05 - accuracy: 1.0000 - val_loss: 5.5018 - val_accuracy: 0.5100\n",
            "Epoch 12/20\n",
            "10/10 [==============================] - 0s 7ms/step - loss: 4.4038e-05 - accuracy: 1.0000 - val_loss: 5.5423 - val_accuracy: 0.5100\n",
            "Epoch 13/20\n",
            "10/10 [==============================] - 0s 7ms/step - loss: 4.1224e-05 - accuracy: 1.0000 - val_loss: 5.5809 - val_accuracy: 0.5100\n",
            "Epoch 14/20\n",
            "10/10 [==============================] - 0s 7ms/step - loss: 3.8653e-05 - accuracy: 1.0000 - val_loss: 5.6162 - val_accuracy: 0.5100\n",
            "Epoch 15/20\n",
            "10/10 [==============================] - 0s 6ms/step - loss: 3.6227e-05 - accuracy: 1.0000 - val_loss: 5.6515 - val_accuracy: 0.5100\n",
            "Epoch 16/20\n",
            "10/10 [==============================] - 0s 6ms/step - loss: 3.4193e-05 - accuracy: 1.0000 - val_loss: 5.6811 - val_accuracy: 0.5100\n",
            "Epoch 17/20\n",
            "10/10 [==============================] - 0s 6ms/step - loss: 3.2113e-05 - accuracy: 1.0000 - val_loss: 5.7133 - val_accuracy: 0.5100\n",
            "Epoch 18/20\n",
            "10/10 [==============================] - 0s 6ms/step - loss: 3.0401e-05 - accuracy: 1.0000 - val_loss: 5.7458 - val_accuracy: 0.5100\n",
            "Epoch 19/20\n",
            "10/10 [==============================] - 0s 6ms/step - loss: 2.8826e-05 - accuracy: 1.0000 - val_loss: 5.7780 - val_accuracy: 0.5100\n",
            "Epoch 20/20\n",
            "10/10 [==============================] - 0s 6ms/step - loss: 2.7320e-05 - accuracy: 1.0000 - val_loss: 5.8079 - val_accuracy: 0.5100\n"
          ],
          "name": "stdout"
        }
      ]
    },
    {
      "cell_type": "code",
      "metadata": {
        "id": "Ekxt1faCZqnZ",
        "colab": {
          "base_uri": "https://localhost:8080/"
        },
        "outputId": "affa8fbd-8d19-4035-e9ba-8ba929fcd8c9"
      },
      "source": [
        "print(history.history)"
      ],
      "execution_count": 93,
      "outputs": [
        {
          "output_type": "stream",
          "text": [
            "{'loss': [0.00012745913409162313, 0.00011172918311785907, 9.977097943192348e-05, 8.914913632906973e-05, 8.038477972149849e-05, 7.313635433092713e-05, 6.644031964242458e-05, 5.9970156144117936e-05, 5.548862827708945e-05, 5.1063219871139154e-05, 4.7404308133991435e-05, 4.4037871703039855e-05, 4.12239896832034e-05, 3.865291000693105e-05, 3.6226821976015344e-05, 3.419295899220742e-05, 3.211318835383281e-05, 3.040145202248823e-05, 2.8826463676523417e-05, 2.732042412390001e-05], 'accuracy': [1.0, 1.0, 1.0, 1.0, 1.0, 1.0, 1.0, 1.0, 1.0, 1.0, 1.0, 1.0, 1.0, 1.0, 1.0, 1.0, 1.0, 1.0, 1.0, 1.0], 'val_loss': [4.937524795532227, 5.008411407470703, 5.082473278045654, 5.138761043548584, 5.197761058807373, 5.261086463928223, 5.319265365600586, 5.367901802062988, 5.417576789855957, 5.461402416229248, 5.501834869384766, 5.542264938354492, 5.5808539390563965, 5.616197109222412, 5.651489734649658, 5.68105411529541, 5.713272571563721, 5.745837211608887, 5.7780046463012695, 5.8079142570495605], 'val_accuracy': [0.5099999904632568, 0.5099999904632568, 0.5099999904632568, 0.5099999904632568, 0.5099999904632568, 0.5099999904632568, 0.5099999904632568, 0.5099999904632568, 0.5099999904632568, 0.5099999904632568, 0.5099999904632568, 0.5099999904632568, 0.5099999904632568, 0.5099999904632568, 0.5099999904632568, 0.5099999904632568, 0.5099999904632568, 0.5099999904632568, 0.5099999904632568, 0.5099999904632568]}\n"
          ],
          "name": "stdout"
        }
      ]
    },
    {
      "cell_type": "markdown",
      "metadata": {
        "id": "p82jF9cVeuVq"
      },
      "source": [
        "**Predicting output from model**"
      ]
    },
    {
      "cell_type": "code",
      "metadata": {
        "id": "wz7j69rhYLa_"
      },
      "source": [
        "#print(train_padded)\n",
        "prediction = model.predict(np.array(elmo_test))"
      ],
      "execution_count": 94,
      "outputs": []
    },
    {
      "cell_type": "code",
      "metadata": {
        "id": "edQpmflqKfwI"
      },
      "source": [
        "pred_y = (prediction > 0.5)"
      ],
      "execution_count": 95,
      "outputs": []
    },
    {
      "cell_type": "markdown",
      "metadata": {
        "id": "vqfrMdqZfLjY"
      },
      "source": [
        "**Calculating Precision , Recall ,Accuracy ,Confusion Matrix and Graph**"
      ]
    },
    {
      "cell_type": "code",
      "metadata": {
        "id": "ly6ISFQKWCf3",
        "colab": {
          "base_uri": "https://localhost:8080/"
        },
        "outputId": "8c673592-c827-4e15-bf86-ebfe4405fea1"
      },
      "source": [
        "from sklearn.metrics import f1_score, precision_score, recall_score, confusion_matrix,accuracy_score\n",
        "print(\"F1-score: {0}\".format(f1_score(pred_y, test_y)))\n",
        "print(\"Precision: \",precision_score(pred_y, test_y))\n",
        "print(\"Recall: \",recall_score(pred_y, test_y))\n",
        "print(\"Accuracy: \",accuracy_score(pred_y,test_y))\n",
        "print(\"Confusion matrix: \")\n",
        "confusion_matrix(pred_y, test_y)"
      ],
      "execution_count": 96,
      "outputs": [
        {
          "output_type": "stream",
          "text": [
            "F1-score: 0.811881188118812\n",
            "Precision:  0.7735849056603774\n",
            "Recall:  0.8541666666666666\n",
            "Accuracy:  0.81\n",
            "Confusion matrix: \n"
          ],
          "name": "stdout"
        },
        {
          "output_type": "execute_result",
          "data": {
            "text/plain": [
              "array([[40, 12],\n",
              "       [ 7, 41]])"
            ]
          },
          "metadata": {
            "tags": []
          },
          "execution_count": 96
        }
      ]
    },
    {
      "cell_type": "code",
      "metadata": {
        "id": "ND6OMLrtWM9b",
        "colab": {
          "base_uri": "https://localhost:8080/",
          "height": 651
        },
        "outputId": "c687753c-147d-4816-efd7-f857c5176414"
      },
      "source": [
        "# accuracy and loss\n",
        "from matplotlib.pyplot import *\n",
        "import matplotlib.pyplot as plt\n",
        "\n",
        "plt.figure(figsize=(10,5))\n",
        "plt.subplot(1,2,1)\n",
        "plt.plot(history.history['accuracy'], label='Training Accuracy')\n",
        "plt.plot(history.history['val_accuracy'], label='Validation Accuracy')\n",
        "plt.xlabel(\"Epochs\")\n",
        "plt.ylabel(\"Accuracy\")\n",
        "\n",
        "plt.figure(figsize=(10,5))\n",
        "plt.subplot(1,2,1)\n",
        "plt.plot(history.history['loss'], label='Training Loss')\n",
        "plt.plot(history.history['val_loss'], label='Validation Loss')\n",
        "plt.xlabel(\"Epochs\")\n",
        "plt.ylabel(\"Loss\")\n",
        "\n",
        "plt.legend()\n",
        "plt.show()"
      ],
      "execution_count": 97,
      "outputs": [
        {
          "output_type": "display_data",
          "data": {
            "image/png": "[encoded data removed]",
            "text/plain": [
              "<Figure size 720x360 with 1 Axes>"
            ]
          },
          "metadata": {
            "tags": [],
            "needs_background": "light"
          }
        },
        {
          "output_type": "display_data",
          "data": {
            "image/png": "[encoded data removed]",
            "text/plain": [
              "<Figure size 720x360 with 1 Axes>"
            ]
          },
          "metadata": {
            "tags": [],
            "needs_background": "light"
          }
        }
      ]
    },
    {
      "cell_type": "markdown",
      "metadata": {
        "id": "A0p8kMbCXgKk"
      },
      "source": [
        "## With RNN"
      ]
    },
    {
      "cell_type": "code",
      "metadata": {
        "id": "ZZmWWFCPXeOj",
        "colab": {
          "base_uri": "https://localhost:8080/"
        },
        "outputId": "af82063c-1d9d-48a8-e3d8-80a206926d3c"
      },
      "source": [
        "# model initialization\n",
        "model = tf.keras.Sequential([\n",
        "  tf.keras.layers.Bidirectional(tf.keras.layers.LSTM(100)),\n",
        "  tf.keras.layers.Dense(24, activation='relu'),\n",
        "  tf.keras.layers.Dense(1, activation='sigmoid' )\n",
        "])\n",
        "\n",
        "# compile model\n",
        "model.compile(loss='binary_crossentropy', optimizer='adam',\n",
        "   metrics=['accuracy'])\n",
        "model.build(input_shape=[len(elmo_train),max_length,embedding_dim])\n",
        "\n",
        "# model summary\n",
        "model.summary ()"
      ],
      "execution_count": 98,
      "outputs": [
        {
          "output_type": "stream",
          "text": [
            "Model: \"sequential_7\"\n",
            "_________________________________________________________________\n",
            "Layer (type)                 Output Shape              Param #   \n",
            "=================================================================\n",
            "bidirectional (Bidirectional (100, 200)                900000    \n",
            "_________________________________________________________________\n",
            "dense_14 (Dense)             (100, 24)                 4824      \n",
            "_________________________________________________________________\n",
            "dense_15 (Dense)             (100, 1)                  25        \n",
            "=================================================================\n",
            "Total params: 904,849\n",
            "Trainable params: 904,849\n",
            "Non-trainable params: 0\n",
            "_________________________________________________________________\n"
          ],
          "name": "stdout"
        }
      ]
    },
    {
      "cell_type": "code",
      "metadata": {
        "id": "WtsqTaDzYh5A",
        "colab": {
          "base_uri": "https://localhost:8080/"
        },
        "outputId": "e53f3b6a-f009-49b4-de2d-e25333427262"
      },
      "source": [
        "history = model.fit(np.array(elmo_train), np.array(train_y), verbose=1, epochs=20, validation_data=(np.array(elmo_test), np.array(test_y)))\n",
        "model.save_weights('./elmo-model.h5')"
      ],
      "execution_count": 99,
      "outputs": [
        {
          "output_type": "stream",
          "text": [
            "Epoch 1/20\n",
            "4/4 [==============================] - 1s 159ms/step - loss: 0.6534 - accuracy: 0.6500 - val_loss: 0.5868 - val_accuracy: 0.6100\n",
            "Epoch 2/20\n",
            "4/4 [==============================] - 0s 25ms/step - loss: 0.4731 - accuracy: 0.7300 - val_loss: 0.4798 - val_accuracy: 0.7900\n",
            "Epoch 3/20\n",
            "4/4 [==============================] - 0s 26ms/step - loss: 0.3850 - accuracy: 0.8500 - val_loss: 0.3934 - val_accuracy: 0.8500\n",
            "Epoch 4/20\n",
            "4/4 [==============================] - 0s 27ms/step - loss: 0.2060 - accuracy: 0.9500 - val_loss: 0.4206 - val_accuracy: 0.8200\n",
            "Epoch 5/20\n",
            "4/4 [==============================] - 0s 25ms/step - loss: 0.1204 - accuracy: 0.9700 - val_loss: 0.4149 - val_accuracy: 0.8400\n",
            "Epoch 6/20\n",
            "4/4 [==============================] - 0s 24ms/step - loss: 0.1079 - accuracy: 0.9600 - val_loss: 0.4162 - val_accuracy: 0.8600\n",
            "Epoch 7/20\n",
            "4/4 [==============================] - 0s 24ms/step - loss: 0.0532 - accuracy: 0.9900 - val_loss: 0.4498 - val_accuracy: 0.8200\n",
            "Epoch 8/20\n",
            "4/4 [==============================] - 0s 25ms/step - loss: 0.0538 - accuracy: 1.0000 - val_loss: 0.4673 - val_accuracy: 0.8200\n",
            "Epoch 9/20\n",
            "4/4 [==============================] - 0s 25ms/step - loss: 0.0232 - accuracy: 1.0000 - val_loss: 0.4559 - val_accuracy: 0.8600\n",
            "Epoch 10/20\n",
            "4/4 [==============================] - 0s 25ms/step - loss: 0.0129 - accuracy: 1.0000 - val_loss: 0.5248 - val_accuracy: 0.8400\n",
            "Epoch 11/20\n",
            "4/4 [==============================] - 0s 24ms/step - loss: 0.0117 - accuracy: 1.0000 - val_loss: 0.5590 - val_accuracy: 0.8300\n",
            "Epoch 12/20\n",
            "4/4 [==============================] - 0s 25ms/step - loss: 0.0070 - accuracy: 1.0000 - val_loss: 0.5370 - val_accuracy: 0.8500\n",
            "Epoch 13/20\n",
            "4/4 [==============================] - 0s 26ms/step - loss: 0.0043 - accuracy: 1.0000 - val_loss: 0.5329 - val_accuracy: 0.8500\n",
            "Epoch 14/20\n",
            "4/4 [==============================] - 0s 27ms/step - loss: 0.0039 - accuracy: 1.0000 - val_loss: 0.5424 - val_accuracy: 0.8500\n",
            "Epoch 15/20\n",
            "4/4 [==============================] - 0s 26ms/step - loss: 0.0034 - accuracy: 1.0000 - val_loss: 0.5605 - val_accuracy: 0.8500\n",
            "Epoch 16/20\n",
            "4/4 [==============================] - 0s 25ms/step - loss: 0.0026 - accuracy: 1.0000 - val_loss: 0.5798 - val_accuracy: 0.8600\n",
            "Epoch 17/20\n",
            "4/4 [==============================] - 0s 26ms/step - loss: 0.0021 - accuracy: 1.0000 - val_loss: 0.6000 - val_accuracy: 0.8500\n",
            "Epoch 18/20\n",
            "4/4 [==============================] - 0s 25ms/step - loss: 0.0017 - accuracy: 1.0000 - val_loss: 0.6194 - val_accuracy: 0.8400\n",
            "Epoch 19/20\n",
            "4/4 [==============================] - 0s 25ms/step - loss: 0.0014 - accuracy: 1.0000 - val_loss: 0.6373 - val_accuracy: 0.8500\n",
            "Epoch 20/20\n",
            "4/4 [==============================] - 0s 25ms/step - loss: 0.0013 - accuracy: 1.0000 - val_loss: 0.6531 - val_accuracy: 0.8500\n"
          ],
          "name": "stdout"
        }
      ]
    },
    {
      "cell_type": "code",
      "metadata": {
        "id": "dK9sOaOHVnSX"
      },
      "source": [
        "print(history.history)"
      ],
      "execution_count": null,
      "outputs": []
    },
    {
      "cell_type": "code",
      "metadata": {
        "id": "rKmFEQ-MffkN"
      },
      "source": [
        "#print(train_padded)\n",
        "prediction = model.predict(np.array(elmo_test))\n",
        "pred_y = (prediction > 0.5)"
      ],
      "execution_count": 100,
      "outputs": []
    },
    {
      "cell_type": "code",
      "metadata": {
        "id": "nEyqFDRKZAX-",
        "colab": {
          "base_uri": "https://localhost:8080/"
        },
        "outputId": "3273450f-f15f-400f-e759-d6ab26feb281"
      },
      "source": [
        "from sklearn.metrics import f1_score, precision_score, recall_score, confusion_matrix,accuracy_score\n",
        "print(\"F1-score: {0}\".format(f1_score(pred_y, test_y)))\n",
        "print(\"Precision: \",precision_score(pred_y, test_y))\n",
        "print(\"Recall: \",recall_score(pred_y, test_y))\n",
        "print(\"Accuracy: \",accuracy_score(pred_y,test_y))\n",
        "print(\"Confusion matrix: \")\n",
        "confusion_matrix(pred_y, test_y)"
      ],
      "execution_count": 101,
      "outputs": [
        {
          "output_type": "stream",
          "text": [
            "F1-score: 0.8453608247422681\n",
            "Precision:  0.7735849056603774\n",
            "Recall:  0.9318181818181818\n",
            "Accuracy:  0.85\n",
            "Confusion matrix: \n"
          ],
          "name": "stdout"
        },
        {
          "output_type": "execute_result",
          "data": {
            "text/plain": [
              "array([[44, 12],\n",
              "       [ 3, 41]])"
            ]
          },
          "metadata": {
            "tags": []
          },
          "execution_count": 101
        }
      ]
    },
    {
      "cell_type": "code",
      "metadata": {
        "id": "b59k1-eoZ5gK",
        "colab": {
          "base_uri": "https://localhost:8080/",
          "height": 651
        },
        "outputId": "9d4045fe-f402-4abf-c181-2ebc6a1258f8"
      },
      "source": [
        "# accuracy and loss\n",
        "from matplotlib.pyplot import *\n",
        "import matplotlib.pyplot as plt\n",
        "\n",
        "plt.figure(figsize=(10,5))\n",
        "plt.subplot(1,2,1)\n",
        "plt.plot(history.history['accuracy'], label='Training Accuracy')\n",
        "plt.plot(history.history['val_accuracy'], label='Validation Accuracy')\n",
        "plt.xlabel(\"Epochs\")\n",
        "plt.ylabel(\"Accuracy\")\n",
        "\n",
        "plt.figure(figsize=(10,5))\n",
        "plt.subplot(1,2,1)\n",
        "plt.plot(history.history['loss'], label='Training Loss')\n",
        "plt.plot(history.history['val_loss'], label='Validation Loss')\n",
        "plt.xlabel(\"Epochs\")\n",
        "plt.ylabel(\"Loss\")\n",
        "\n",
        "plt.legend()\n",
        "plt.show()"
      ],
      "execution_count": 102,
      "outputs": [
        {
          "output_type": "display_data",
          "data": {
            "image/png": "[encoded data removed]",
            "text/plain": [
              "<Figure size 720x360 with 1 Axes>"
            ]
          },
          "metadata": {
            "tags": [],
            "needs_background": "light"
          }
        },
        {
          "output_type": "display_data",
          "data": {
            "image/png": "[encoded data removed]",
            "text/plain": [
              "<Figure size 720x360 with 1 Axes>"
            ]
          },
          "metadata": {
            "tags": [],
            "needs_background": "light"
          }
        }
      ]
    },
    {
      "cell_type": "markdown",
      "metadata": {
        "id": "0JyvZ7K_F1Lx"
      },
      "source": [
        "##With RMDL"
      ]
    },
    {
      "cell_type": "code",
      "metadata": {
        "id": "GeAKAY4pF5q2",
        "colab": {
          "base_uri": "https://localhost:8080/"
        },
        "outputId": "234a8ec1-0eff-4646-d3ee-72b38862f82b"
      },
      "source": [
        "# model initialization\n",
        "model = tf.keras.Sequential([\n",
        "  tf.keras.layers.Conv1D(128, 5, activation='relu'),\n",
        "  tf.keras.layers.Bidirectional(tf.keras.layers.LSTM(32)),\n",
        "  tf.keras.layers.Dense(24, activation='relu'),\n",
        "  tf.keras.layers.Dense(1, activation='sigmoid' )\n",
        "])\n",
        "\n",
        "# compile model\n",
        "model.compile(loss='binary_crossentropy', optimizer='adam',\n",
        "   metrics=['accuracy'])\n",
        "model.build(input_shape=[len(elmo_train),max_length,embedding_dim])\n",
        "\n",
        "# model summary\n",
        "model.summary ()"
      ],
      "execution_count": 103,
      "outputs": [
        {
          "output_type": "stream",
          "text": [
            "Model: \"sequential_8\"\n",
            "_________________________________________________________________\n",
            "Layer (type)                 Output Shape              Param #   \n",
            "=================================================================\n",
            "conv1d_7 (Conv1D)            (100, 508, 128)           655488    \n",
            "_________________________________________________________________\n",
            "bidirectional_1 (Bidirection (100, 64)                 41216     \n",
            "_________________________________________________________________\n",
            "dense_16 (Dense)             (100, 24)                 1560      \n",
            "_________________________________________________________________\n",
            "dense_17 (Dense)             (100, 1)                  25        \n",
            "=================================================================\n",
            "Total params: 698,289\n",
            "Trainable params: 698,289\n",
            "Non-trainable params: 0\n",
            "_________________________________________________________________\n"
          ],
          "name": "stdout"
        }
      ]
    },
    {
      "cell_type": "code",
      "metadata": {
        "id": "HFNC_Q5lGQf9",
        "colab": {
          "base_uri": "https://localhost:8080/"
        },
        "outputId": "6ac30d9f-36f6-454d-b958-65b1725cf095"
      },
      "source": [
        "history = model.fit(np.array(elmo_train), np.array(train_y), verbose=1, epochs=20, validation_data=(np.array(elmo_test), np.array(test_y)))\n",
        "model.save_weights('./elmo-model.h5')"
      ],
      "execution_count": 104,
      "outputs": [
        {
          "output_type": "stream",
          "text": [
            "Epoch 1/20\n",
            "4/4 [==============================] - 1s 158ms/step - loss: 0.6996 - accuracy: 0.5400 - val_loss: 0.6349 - val_accuracy: 0.7400\n",
            "Epoch 2/20\n",
            "4/4 [==============================] - 0s 24ms/step - loss: 0.5217 - accuracy: 0.9400 - val_loss: 0.5079 - val_accuracy: 0.8400\n",
            "Epoch 3/20\n",
            "4/4 [==============================] - 0s 23ms/step - loss: 0.4003 - accuracy: 0.8800 - val_loss: 0.4452 - val_accuracy: 0.8500\n",
            "Epoch 4/20\n",
            "4/4 [==============================] - 0s 23ms/step - loss: 0.2599 - accuracy: 0.9600 - val_loss: 0.4154 - val_accuracy: 0.8600\n",
            "Epoch 5/20\n",
            "4/4 [==============================] - 0s 23ms/step - loss: 0.1522 - accuracy: 0.9900 - val_loss: 0.4847 - val_accuracy: 0.8200\n",
            "Epoch 6/20\n",
            "4/4 [==============================] - 0s 23ms/step - loss: 0.0932 - accuracy: 1.0000 - val_loss: 0.4680 - val_accuracy: 0.8400\n",
            "Epoch 7/20\n",
            "4/4 [==============================] - 0s 23ms/step - loss: 0.0564 - accuracy: 1.0000 - val_loss: 0.4800 - val_accuracy: 0.8300\n",
            "Epoch 8/20\n",
            "4/4 [==============================] - 0s 23ms/step - loss: 0.0353 - accuracy: 1.0000 - val_loss: 0.5079 - val_accuracy: 0.8500\n",
            "Epoch 9/20\n",
            "4/4 [==============================] - 0s 22ms/step - loss: 0.0256 - accuracy: 1.0000 - val_loss: 0.5493 - val_accuracy: 0.8300\n",
            "Epoch 10/20\n",
            "4/4 [==============================] - 0s 22ms/step - loss: 0.0228 - accuracy: 1.0000 - val_loss: 0.5561 - val_accuracy: 0.8400\n",
            "Epoch 11/20\n",
            "4/4 [==============================] - 0s 23ms/step - loss: 0.0162 - accuracy: 1.0000 - val_loss: 0.5423 - val_accuracy: 0.8500\n",
            "Epoch 12/20\n",
            "4/4 [==============================] - 0s 23ms/step - loss: 0.0114 - accuracy: 1.0000 - val_loss: 0.5430 - val_accuracy: 0.8500\n",
            "Epoch 13/20\n",
            "4/4 [==============================] - 0s 23ms/step - loss: 0.0088 - accuracy: 1.0000 - val_loss: 0.5529 - val_accuracy: 0.8500\n",
            "Epoch 14/20\n",
            "4/4 [==============================] - 0s 23ms/step - loss: 0.0072 - accuracy: 1.0000 - val_loss: 0.5639 - val_accuracy: 0.8500\n",
            "Epoch 15/20\n",
            "4/4 [==============================] - 0s 23ms/step - loss: 0.0060 - accuracy: 1.0000 - val_loss: 0.5753 - val_accuracy: 0.8500\n",
            "Epoch 16/20\n",
            "4/4 [==============================] - 0s 23ms/step - loss: 0.0051 - accuracy: 1.0000 - val_loss: 0.5904 - val_accuracy: 0.8600\n",
            "Epoch 17/20\n",
            "4/4 [==============================] - 0s 22ms/step - loss: 0.0044 - accuracy: 1.0000 - val_loss: 0.6017 - val_accuracy: 0.8600\n",
            "Epoch 18/20\n",
            "4/4 [==============================] - 0s 22ms/step - loss: 0.0039 - accuracy: 1.0000 - val_loss: 0.6080 - val_accuracy: 0.8500\n",
            "Epoch 19/20\n",
            "4/4 [==============================] - 0s 23ms/step - loss: 0.0035 - accuracy: 1.0000 - val_loss: 0.6111 - val_accuracy: 0.8500\n",
            "Epoch 20/20\n",
            "4/4 [==============================] - 0s 23ms/step - loss: 0.0032 - accuracy: 1.0000 - val_loss: 0.6211 - val_accuracy: 0.8500\n"
          ],
          "name": "stdout"
        }
      ]
    },
    {
      "cell_type": "code",
      "metadata": {
        "id": "2tOAKwQlGXtf"
      },
      "source": [
        "#print(train_padded)\n",
        "prediction = model.predict(np.array(elmo_test))\n",
        "pred_y = (prediction > 0.5)"
      ],
      "execution_count": 105,
      "outputs": []
    },
    {
      "cell_type": "code",
      "metadata": {
        "id": "Wfbx5g-1Ge4_",
        "colab": {
          "base_uri": "https://localhost:8080/"
        },
        "outputId": "e666a14a-7f72-4f87-efa1-ed739ab9763e"
      },
      "source": [
        "from sklearn.metrics import f1_score, precision_score, recall_score, confusion_matrix,accuracy_score\n",
        "print(\"F1-score: {0}\".format(f1_score(pred_y, test_y)))\n",
        "print(\"Precision: \",precision_score(pred_y, test_y))\n",
        "print(\"Recall: \",recall_score(pred_y, test_y))\n",
        "print(\"Accuracy: \",accuracy_score(pred_y,test_y))\n",
        "print(\"Confusion matrix: \")\n",
        "confusion_matrix(pred_y, test_y)"
      ],
      "execution_count": 106,
      "outputs": [
        {
          "output_type": "stream",
          "text": [
            "F1-score: 0.8453608247422681\n",
            "Precision:  0.7735849056603774\n",
            "Recall:  0.9318181818181818\n",
            "Accuracy:  0.85\n",
            "Confusion matrix: \n"
          ],
          "name": "stdout"
        },
        {
          "output_type": "execute_result",
          "data": {
            "text/plain": [
              "array([[44, 12],\n",
              "       [ 3, 41]])"
            ]
          },
          "metadata": {
            "tags": []
          },
          "execution_count": 106
        }
      ]
    },
    {
      "cell_type": "code",
      "metadata": {
        "id": "HTPvayRjGjfj",
        "colab": {
          "base_uri": "https://localhost:8080/",
          "height": 651
        },
        "outputId": "29a9e177-cf5c-4400-c33f-e0aebc485c08"
      },
      "source": [
        "# accuracy and loss\n",
        "from matplotlib.pyplot import *\n",
        "import matplotlib.pyplot as plt\n",
        "\n",
        "plt.figure(figsize=(10,5))\n",
        "plt.subplot(1,2,1)\n",
        "plt.plot(history.history['accuracy'], label='Training Accuracy')\n",
        "plt.plot(history.history['val_accuracy'], label='Validation Accuracy')\n",
        "plt.xlabel(\"Epochs\")\n",
        "plt.ylabel(\"Accuracy\")\n",
        "\n",
        "plt.figure(figsize=(10,5))\n",
        "plt.subplot(1,2,1)\n",
        "plt.plot(history.history['loss'], label='Training Loss')\n",
        "plt.plot(history.history['val_loss'], label='Validation Loss')\n",
        "plt.xlabel(\"Epochs\")\n",
        "plt.ylabel(\"Loss\")\n",
        "\n",
        "plt.legend()\n",
        "plt.show()"
      ],
      "execution_count": 107,
      "outputs": [
        {
          "output_type": "display_data",
          "data": {
            "image/png": "[encoded data removed]",
            "text/plain": [
              "<Figure size 720x360 with 1 Axes>"
            ]
          },
          "metadata": {
            "tags": [],
            "needs_background": "light"
          }
        },
        {
          "output_type": "display_data",
          "data": {
            "image/png": "[encoded data removed]",
            "text/plain": [
              "<Figure size 720x360 with 1 Axes>"
            ]
          },
          "metadata": {
            "tags": [],
            "needs_background": "light"
          }
        }
      ]
    },
    {
      "cell_type": "markdown",
      "metadata": {
        "id": "uNss_2p0G8vH"
      },
      "source": [
        "##With Multi-Channel CNN\n"
      ]
    },
    {
      "cell_type": "code",
      "metadata": {
        "id": "h2P0qKSjHNaZ"
      },
      "source": [
        "# issue with it\n",
        "from keras.models import Model\n",
        "from keras.layers import Input\n",
        "from keras.layers import Dense\n",
        "from keras.layers import Flatten\n",
        "from keras.layers import Dropout\n",
        "from keras.layers import Embedding\n",
        "from keras.layers.convolutional import Conv1D\n",
        "from keras.layers.convolutional import MaxPooling1D\n",
        "from keras.layers.merge import concatenate\n",
        "from keras.utils.vis_utils import plot_model\n",
        "\n",
        "\n",
        "def define_model(length, vocab_size):\n",
        "\t# channel 1\n",
        "\tinputs1 = Input(shape=(length,))\n",
        "\tembedding1 = Embedding(vocab_size, 100)(inputs1)\n",
        "\tconv1 = Conv1D(filters=32, kernel_size=4, activation='relu')(embedding1)\n",
        "\tdrop1 = Dropout(0.5)(conv1)\n",
        "\tpool1 = MaxPooling1D(pool_size=2)(drop1)\n",
        "\tflat1 = Flatten()(pool1)\n",
        "\t# channel 2\n",
        "\tinputs2 = Input(shape=(length,))\n",
        "\tembedding2 = Embedding(vocab_size, 100)(inputs2)\n",
        "\tconv2 = Conv1D(filters=32, kernel_size=6, activation='relu')(embedding2)\n",
        "\tdrop2 = Dropout(0.5)(conv2)\n",
        "\tpool2 = MaxPooling1D(pool_size=2)(drop2)\n",
        "\tflat2 = Flatten()(pool2)\n",
        "\t# channel 3\n",
        "\tinputs3 = Input(shape=(length,))\n",
        "\tembedding3 = Embedding(vocab_size, 100)(inputs3)\n",
        "\tconv3 = Conv1D(filters=32, kernel_size=8, activation='relu')(embedding3)\n",
        "\tdrop3 = Dropout(0.5)(conv3)\n",
        "\tpool3 = MaxPooling1D(pool_size=2)(drop3)\n",
        "\tflat3 = Flatten()(pool3)\n",
        "\t# merge\n",
        "\tmerged = concatenate([flat1, flat2, flat3])\n",
        "\t# interpretation\n",
        "\tdense1 = Dense(10, activation='relu')(merged)\n",
        "\toutputs = Dense(1, activation='sigmoid')(dense1)\n",
        "\tmodel = Model(inputs=[inputs1, inputs2, inputs3], outputs=outputs)\n",
        "\t# compile\n",
        "\tmodel.compile(loss='binary_crossentropy', optimizer='adam', metrics=['accuracy'])\n",
        "\t# summarize\n",
        "\tprint(model.summary())\n",
        "\tplot_model(model, show_shapes=True, to_file='multichannel.png')\n",
        "\treturn model"
      ],
      "execution_count": null,
      "outputs": []
    },
    {
      "cell_type": "code",
      "metadata": {
        "id": "J3_hf5FjHSVZ"
      },
      "source": [
        "model = define_model(max_length, vocab_size)\n",
        "# compile model\n",
        "model.compile(loss='binary_crossentropy', optimizer='adam',\n",
        "   metrics=['accuracy'])\n",
        "model.build(input_shape=[len(elmo_train),max_length,embedding_dim])\n",
        "\n",
        "# model summary\n",
        "model.summary ()"
      ],
      "execution_count": null,
      "outputs": []
    },
    {
      "cell_type": "code",
      "metadata": {
        "id": "BmuOTCJaIBeq"
      },
      "source": [
        "history = model.fit(np.array(train_x), np.array(train_y), verbose=1, epochs=20)\n",
        "model.save_weights('./elmo-model.h5')"
      ],
      "execution_count": null,
      "outputs": []
    }
  ]
}