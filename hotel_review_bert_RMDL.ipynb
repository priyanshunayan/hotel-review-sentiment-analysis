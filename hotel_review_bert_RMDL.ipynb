{
  "nbformat": 4,
  "nbformat_minor": 0,
  "metadata": {
    "colab": {
      "name": "hotel_review_bert_RMDL.ipynb",
      "provenance": [],
      "collapsed_sections": []
    },
    "kernelspec": {
      "name": "python3",
      "display_name": "Python 3"
    },
    "accelerator": "TPU"
  },
  "cells": [
    {
      "cell_type": "code",
      "metadata": {
        "id": "X_GirHZVJQGz"
      },
      "source": [
        "import numpy as np\n",
        "import pandas as pd\n",
        "import matplotlib.pyplot as plt\n",
        "from sklearn.preprocessing import LabelEncoder\n",
        "from nltk.corpus import stopwords\n",
        "import tensorflow as tf\n",
        "from tensorflow.keras.preprocessing.text import Tokenizer"
      ],
      "execution_count": null,
      "outputs": []
    },
    {
      "cell_type": "code",
      "metadata": {
        "id": "s0v4HsCxJk_I",
        "outputId": "4dc27c6c-f88a-4a87-f14f-8e72093f8ec2",
        "colab": {
          "base_uri": "https://localhost:8080/",
          "height": 36
        }
      },
      "source": [
        "tf.__version__"
      ],
      "execution_count": null,
      "outputs": [
        {
          "output_type": "execute_result",
          "data": {
            "application/vnd.google.colaboratory.intrinsic+json": {
              "type": "string"
            },
            "text/plain": [
              "'2.3.0'"
            ]
          },
          "metadata": {
            "tags": []
          },
          "execution_count": 2
        }
      ]
    },
    {
      "cell_type": "code",
      "metadata": {
        "id": "sF3vhIuWpvSh",
        "outputId": "0953bb59-a990-4eaf-92b4-1e515205aee1",
        "colab": {
          "base_uri": "https://localhost:8080/"
        }
      },
      "source": [
        "from google.colab import drive\n",
        "drive.mount('/content/drive')"
      ],
      "execution_count": null,
      "outputs": [
        {
          "output_type": "stream",
          "text": [
            "Mounted at /content/drive\n"
          ],
          "name": "stdout"
        }
      ]
    },
    {
      "cell_type": "code",
      "metadata": {
        "id": "XlYwGQ6GJnDL"
      },
      "source": [
        "hotel_review = pd.read_csv('/content/drive/My Drive/data/Hotel_Reviews.csv')"
      ],
      "execution_count": null,
      "outputs": []
    },
    {
      "cell_type": "code",
      "metadata": {
        "id": "95qf_WgHJwA9",
        "outputId": "78359115-93e8-43db-c77e-a43efdd331f3",
        "colab": {
          "base_uri": "https://localhost:8080/",
          "height": 695
        }
      },
      "source": [
        "hotel_review.head()"
      ],
      "execution_count": null,
      "outputs": [
        {
          "output_type": "execute_result",
          "data": {
            "text/html": [
              "<div>\n",
              "<style scoped>\n",
              "    .dataframe tbody tr th:only-of-type {\n",
              "        vertical-align: middle;\n",
              "    }\n",
              "\n",
              "    .dataframe tbody tr th {\n",
              "        vertical-align: top;\n",
              "    }\n",
              "\n",
              "    .dataframe thead th {\n",
              "        text-align: right;\n",
              "    }\n",
              "</style>\n",
              "<table border=\"1\" class=\"dataframe\">\n",
              "  <thead>\n",
              "    <tr style=\"text-align: right;\">\n",
              "      <th></th>\n",
              "      <th>Hotel_Address</th>\n",
              "      <th>Additional_Number_of_Scoring</th>\n",
              "      <th>Review_Date</th>\n",
              "      <th>Average_Score</th>\n",
              "      <th>Hotel_Name</th>\n",
              "      <th>Reviewer_Nationality</th>\n",
              "      <th>Negative_Review</th>\n",
              "      <th>Review_Total_Negative_Word_Counts</th>\n",
              "      <th>Total_Number_of_Reviews</th>\n",
              "      <th>Positive_Review</th>\n",
              "      <th>Review_Total_Positive_Word_Counts</th>\n",
              "      <th>Total_Number_of_Reviews_Reviewer_Has_Given</th>\n",
              "      <th>Reviewer_Score</th>\n",
              "      <th>Tags</th>\n",
              "      <th>days_since_review</th>\n",
              "      <th>lat</th>\n",
              "      <th>lng</th>\n",
              "    </tr>\n",
              "  </thead>\n",
              "  <tbody>\n",
              "    <tr>\n",
              "      <th>0</th>\n",
              "      <td>s Gravesandestraat 55 Oost 1092 AA Amsterdam ...</td>\n",
              "      <td>194</td>\n",
              "      <td>8/3/2017</td>\n",
              "      <td>7.7</td>\n",
              "      <td>Hotel Arena</td>\n",
              "      <td>Russia</td>\n",
              "      <td>I am so angry that i made this post available...</td>\n",
              "      <td>397</td>\n",
              "      <td>1403</td>\n",
              "      <td>Only the park outside of the hotel was beauti...</td>\n",
              "      <td>11</td>\n",
              "      <td>7</td>\n",
              "      <td>2.9</td>\n",
              "      <td>[' Leisure trip ', ' Couple ', ' Duplex Double...</td>\n",
              "      <td>0 days</td>\n",
              "      <td>52.360576</td>\n",
              "      <td>4.915968</td>\n",
              "    </tr>\n",
              "    <tr>\n",
              "      <th>1</th>\n",
              "      <td>s Gravesandestraat 55 Oost 1092 AA Amsterdam ...</td>\n",
              "      <td>194</td>\n",
              "      <td>8/3/2017</td>\n",
              "      <td>7.7</td>\n",
              "      <td>Hotel Arena</td>\n",
              "      <td>Ireland</td>\n",
              "      <td>No Negative</td>\n",
              "      <td>0</td>\n",
              "      <td>1403</td>\n",
              "      <td>No real complaints the hotel was great great ...</td>\n",
              "      <td>105</td>\n",
              "      <td>7</td>\n",
              "      <td>7.5</td>\n",
              "      <td>[' Leisure trip ', ' Couple ', ' Duplex Double...</td>\n",
              "      <td>0 days</td>\n",
              "      <td>52.360576</td>\n",
              "      <td>4.915968</td>\n",
              "    </tr>\n",
              "    <tr>\n",
              "      <th>2</th>\n",
              "      <td>s Gravesandestraat 55 Oost 1092 AA Amsterdam ...</td>\n",
              "      <td>194</td>\n",
              "      <td>7/31/2017</td>\n",
              "      <td>7.7</td>\n",
              "      <td>Hotel Arena</td>\n",
              "      <td>Australia</td>\n",
              "      <td>Rooms are nice but for elderly a bit difficul...</td>\n",
              "      <td>42</td>\n",
              "      <td>1403</td>\n",
              "      <td>Location was good and staff were ok It is cut...</td>\n",
              "      <td>21</td>\n",
              "      <td>9</td>\n",
              "      <td>7.1</td>\n",
              "      <td>[' Leisure trip ', ' Family with young childre...</td>\n",
              "      <td>3 days</td>\n",
              "      <td>52.360576</td>\n",
              "      <td>4.915968</td>\n",
              "    </tr>\n",
              "    <tr>\n",
              "      <th>3</th>\n",
              "      <td>s Gravesandestraat 55 Oost 1092 AA Amsterdam ...</td>\n",
              "      <td>194</td>\n",
              "      <td>7/31/2017</td>\n",
              "      <td>7.7</td>\n",
              "      <td>Hotel Arena</td>\n",
              "      <td>United Kingdom</td>\n",
              "      <td>My room was dirty and I was afraid to walk ba...</td>\n",
              "      <td>210</td>\n",
              "      <td>1403</td>\n",
              "      <td>Great location in nice surroundings the bar a...</td>\n",
              "      <td>26</td>\n",
              "      <td>1</td>\n",
              "      <td>3.8</td>\n",
              "      <td>[' Leisure trip ', ' Solo traveler ', ' Duplex...</td>\n",
              "      <td>3 days</td>\n",
              "      <td>52.360576</td>\n",
              "      <td>4.915968</td>\n",
              "    </tr>\n",
              "    <tr>\n",
              "      <th>4</th>\n",
              "      <td>s Gravesandestraat 55 Oost 1092 AA Amsterdam ...</td>\n",
              "      <td>194</td>\n",
              "      <td>7/24/2017</td>\n",
              "      <td>7.7</td>\n",
              "      <td>Hotel Arena</td>\n",
              "      <td>New Zealand</td>\n",
              "      <td>You When I booked with your company on line y...</td>\n",
              "      <td>140</td>\n",
              "      <td>1403</td>\n",
              "      <td>Amazing location and building Romantic setting</td>\n",
              "      <td>8</td>\n",
              "      <td>3</td>\n",
              "      <td>6.7</td>\n",
              "      <td>[' Leisure trip ', ' Couple ', ' Suite ', ' St...</td>\n",
              "      <td>10 days</td>\n",
              "      <td>52.360576</td>\n",
              "      <td>4.915968</td>\n",
              "    </tr>\n",
              "  </tbody>\n",
              "</table>\n",
              "</div>"
            ],
            "text/plain": [
              "                                       Hotel_Address  ...       lng\n",
              "0   s Gravesandestraat 55 Oost 1092 AA Amsterdam ...  ...  4.915968\n",
              "1   s Gravesandestraat 55 Oost 1092 AA Amsterdam ...  ...  4.915968\n",
              "2   s Gravesandestraat 55 Oost 1092 AA Amsterdam ...  ...  4.915968\n",
              "3   s Gravesandestraat 55 Oost 1092 AA Amsterdam ...  ...  4.915968\n",
              "4   s Gravesandestraat 55 Oost 1092 AA Amsterdam ...  ...  4.915968\n",
              "\n",
              "[5 rows x 17 columns]"
            ]
          },
          "metadata": {
            "tags": []
          },
          "execution_count": 5
        }
      ]
    },
    {
      "cell_type": "code",
      "metadata": {
        "id": "W4-yBpI6JzU0",
        "outputId": "6d45f024-0b31-4039-e05c-f661f0168a57",
        "colab": {
          "base_uri": "https://localhost:8080/"
        }
      },
      "source": [
        "hotel_review.shape"
      ],
      "execution_count": null,
      "outputs": [
        {
          "output_type": "execute_result",
          "data": {
            "text/plain": [
              "(515738, 17)"
            ]
          },
          "metadata": {
            "tags": []
          },
          "execution_count": 6
        }
      ]
    },
    {
      "cell_type": "code",
      "metadata": {
        "id": "dLpI4KinJ1R_"
      },
      "source": [
        "positive_review = hotel_review.loc[:,['Positive_Review']]\n",
        "negative_review = hotel_review.loc[:,['Negative_Review']]"
      ],
      "execution_count": null,
      "outputs": []
    },
    {
      "cell_type": "code",
      "metadata": {
        "id": "mDTA3C9fJ3A8",
        "outputId": "8cc859ba-87c6-4d20-d57e-9d51e77b6c1f",
        "colab": {
          "base_uri": "https://localhost:8080/",
          "height": 316
        }
      },
      "source": [
        "options = ['No Positive', 'No Negative']\n",
        "selected_positive_review = positive_review.loc[~(positive_review['Positive_Review'] == \"No Positive\"), :]\n",
        "selected_negative_review = negative_review.loc[~(negative_review['Negative_Review'] == \"No Negative\"), :]\n",
        "selected_positive_review['is_positive'] = 1\n",
        "selected_positive_review.columns = ['review', 'is_positive']\n",
        "selected_positive_review.head()"
      ],
      "execution_count": null,
      "outputs": [
        {
          "output_type": "stream",
          "text": [
            "/usr/local/lib/python3.6/dist-packages/ipykernel_launcher.py:4: SettingWithCopyWarning: \n",
            "A value is trying to be set on a copy of a slice from a DataFrame.\n",
            "Try using .loc[row_indexer,col_indexer] = value instead\n",
            "\n",
            "See the caveats in the documentation: https://pandas.pydata.org/pandas-docs/stable/user_guide/indexing.html#returning-a-view-versus-a-copy\n",
            "  after removing the cwd from sys.path.\n"
          ],
          "name": "stderr"
        },
        {
          "output_type": "execute_result",
          "data": {
            "text/html": [
              "<div>\n",
              "<style scoped>\n",
              "    .dataframe tbody tr th:only-of-type {\n",
              "        vertical-align: middle;\n",
              "    }\n",
              "\n",
              "    .dataframe tbody tr th {\n",
              "        vertical-align: top;\n",
              "    }\n",
              "\n",
              "    .dataframe thead th {\n",
              "        text-align: right;\n",
              "    }\n",
              "</style>\n",
              "<table border=\"1\" class=\"dataframe\">\n",
              "  <thead>\n",
              "    <tr style=\"text-align: right;\">\n",
              "      <th></th>\n",
              "      <th>review</th>\n",
              "      <th>is_positive</th>\n",
              "    </tr>\n",
              "  </thead>\n",
              "  <tbody>\n",
              "    <tr>\n",
              "      <th>0</th>\n",
              "      <td>Only the park outside of the hotel was beauti...</td>\n",
              "      <td>1</td>\n",
              "    </tr>\n",
              "    <tr>\n",
              "      <th>1</th>\n",
              "      <td>No real complaints the hotel was great great ...</td>\n",
              "      <td>1</td>\n",
              "    </tr>\n",
              "    <tr>\n",
              "      <th>2</th>\n",
              "      <td>Location was good and staff were ok It is cut...</td>\n",
              "      <td>1</td>\n",
              "    </tr>\n",
              "    <tr>\n",
              "      <th>3</th>\n",
              "      <td>Great location in nice surroundings the bar a...</td>\n",
              "      <td>1</td>\n",
              "    </tr>\n",
              "    <tr>\n",
              "      <th>4</th>\n",
              "      <td>Amazing location and building Romantic setting</td>\n",
              "      <td>1</td>\n",
              "    </tr>\n",
              "  </tbody>\n",
              "</table>\n",
              "</div>"
            ],
            "text/plain": [
              "                                              review  is_positive\n",
              "0   Only the park outside of the hotel was beauti...            1\n",
              "1   No real complaints the hotel was great great ...            1\n",
              "2   Location was good and staff were ok It is cut...            1\n",
              "3   Great location in nice surroundings the bar a...            1\n",
              "4    Amazing location and building Romantic setting             1"
            ]
          },
          "metadata": {
            "tags": []
          },
          "execution_count": 8
        }
      ]
    },
    {
      "cell_type": "code",
      "metadata": {
        "id": "PZvzv9FnJ5B6",
        "outputId": "ee242458-d262-46dc-d58f-eb18ee455692",
        "colab": {
          "base_uri": "https://localhost:8080/"
        }
      },
      "source": [
        "selected_negative_review['is_postive'] = 0\n",
        "selected_negative_review.columns = ['review', 'is_positive']"
      ],
      "execution_count": null,
      "outputs": [
        {
          "output_type": "stream",
          "text": [
            "/usr/local/lib/python3.6/dist-packages/ipykernel_launcher.py:1: SettingWithCopyWarning: \n",
            "A value is trying to be set on a copy of a slice from a DataFrame.\n",
            "Try using .loc[row_indexer,col_indexer] = value instead\n",
            "\n",
            "See the caveats in the documentation: https://pandas.pydata.org/pandas-docs/stable/user_guide/indexing.html#returning-a-view-versus-a-copy\n",
            "  \"\"\"Entry point for launching an IPython kernel.\n"
          ],
          "name": "stderr"
        }
      ]
    },
    {
      "cell_type": "code",
      "metadata": {
        "id": "COcr_2wBJ9uO"
      },
      "source": [
        "selected_positive_review = selected_positive_review[:30000]\n",
        "selected_negative_review = selected_negative_review[:30000]"
      ],
      "execution_count": null,
      "outputs": []
    },
    {
      "cell_type": "code",
      "metadata": {
        "id": "A7MRGZ8SJ_i3",
        "outputId": "227f3dcf-7d51-46b4-bd63-832e350a96b3",
        "colab": {
          "base_uri": "https://localhost:8080/"
        }
      },
      "source": [
        "print(selected_negative_review.shape)\n",
        "print(selected_positive_review.shape)\n"
      ],
      "execution_count": null,
      "outputs": [
        {
          "output_type": "stream",
          "text": [
            "(30000, 2)\n",
            "(30000, 2)\n"
          ],
          "name": "stdout"
        }
      ]
    },
    {
      "cell_type": "code",
      "metadata": {
        "id": "MJ2v-txGKBAn"
      },
      "source": [
        "reviews = selected_positive_review.append(selected_negative_review)"
      ],
      "execution_count": null,
      "outputs": []
    },
    {
      "cell_type": "code",
      "metadata": {
        "id": "fpBQtxLQKDp_",
        "outputId": "89ff3c52-d2d8-4774-af9f-d356d637377b",
        "colab": {
          "base_uri": "https://localhost:8080/",
          "height": 363
        }
      },
      "source": [
        "reviews.head(n=10)"
      ],
      "execution_count": null,
      "outputs": [
        {
          "output_type": "execute_result",
          "data": {
            "text/html": [
              "<div>\n",
              "<style scoped>\n",
              "    .dataframe tbody tr th:only-of-type {\n",
              "        vertical-align: middle;\n",
              "    }\n",
              "\n",
              "    .dataframe tbody tr th {\n",
              "        vertical-align: top;\n",
              "    }\n",
              "\n",
              "    .dataframe thead th {\n",
              "        text-align: right;\n",
              "    }\n",
              "</style>\n",
              "<table border=\"1\" class=\"dataframe\">\n",
              "  <thead>\n",
              "    <tr style=\"text-align: right;\">\n",
              "      <th></th>\n",
              "      <th>review</th>\n",
              "      <th>is_positive</th>\n",
              "    </tr>\n",
              "  </thead>\n",
              "  <tbody>\n",
              "    <tr>\n",
              "      <th>0</th>\n",
              "      <td>Only the park outside of the hotel was beauti...</td>\n",
              "      <td>1</td>\n",
              "    </tr>\n",
              "    <tr>\n",
              "      <th>1</th>\n",
              "      <td>No real complaints the hotel was great great ...</td>\n",
              "      <td>1</td>\n",
              "    </tr>\n",
              "    <tr>\n",
              "      <th>2</th>\n",
              "      <td>Location was good and staff were ok It is cut...</td>\n",
              "      <td>1</td>\n",
              "    </tr>\n",
              "    <tr>\n",
              "      <th>3</th>\n",
              "      <td>Great location in nice surroundings the bar a...</td>\n",
              "      <td>1</td>\n",
              "    </tr>\n",
              "    <tr>\n",
              "      <th>4</th>\n",
              "      <td>Amazing location and building Romantic setting</td>\n",
              "      <td>1</td>\n",
              "    </tr>\n",
              "    <tr>\n",
              "      <th>5</th>\n",
              "      <td>Good restaurant with modern design great chil...</td>\n",
              "      <td>1</td>\n",
              "    </tr>\n",
              "    <tr>\n",
              "      <th>6</th>\n",
              "      <td>The room is spacious and bright The hotel is ...</td>\n",
              "      <td>1</td>\n",
              "    </tr>\n",
              "    <tr>\n",
              "      <th>7</th>\n",
              "      <td>Good location Set in a lovely park friendly s...</td>\n",
              "      <td>1</td>\n",
              "    </tr>\n",
              "    <tr>\n",
              "      <th>9</th>\n",
              "      <td>The room was big enough and the bed is good T...</td>\n",
              "      <td>1</td>\n",
              "    </tr>\n",
              "    <tr>\n",
              "      <th>10</th>\n",
              "      <td>Rooms were stunningly decorated and really sp...</td>\n",
              "      <td>1</td>\n",
              "    </tr>\n",
              "  </tbody>\n",
              "</table>\n",
              "</div>"
            ],
            "text/plain": [
              "                                               review  is_positive\n",
              "0    Only the park outside of the hotel was beauti...            1\n",
              "1    No real complaints the hotel was great great ...            1\n",
              "2    Location was good and staff were ok It is cut...            1\n",
              "3    Great location in nice surroundings the bar a...            1\n",
              "4     Amazing location and building Romantic setting             1\n",
              "5    Good restaurant with modern design great chil...            1\n",
              "6    The room is spacious and bright The hotel is ...            1\n",
              "7    Good location Set in a lovely park friendly s...            1\n",
              "9    The room was big enough and the bed is good T...            1\n",
              "10   Rooms were stunningly decorated and really sp...            1"
            ]
          },
          "metadata": {
            "tags": []
          },
          "execution_count": 14
        }
      ]
    },
    {
      "cell_type": "code",
      "metadata": {
        "id": "PgVQuV_uKFN3",
        "outputId": "f5e39c16-3441-46f8-dc1f-a62b0e28df42",
        "colab": {
          "base_uri": "https://localhost:8080/"
        }
      },
      "source": [
        "import nltk\n",
        "nltk.download('stopwords')\n",
        "nltk.download('wordnet')\n",
        "nltk.download('averaged_perceptron_tagger')\n",
        "from nltk.corpus import wordnet\n",
        "import string\n",
        "from nltk import pos_tag\n",
        "from nltk.corpus import stopwords\n",
        "from nltk.tokenize import WhitespaceTokenizer\n",
        "from nltk.stem import WordNetLemmatizer"
      ],
      "execution_count": null,
      "outputs": [
        {
          "output_type": "stream",
          "text": [
            "[nltk_data] Downloading package stopwords to /root/nltk_data...\n",
            "[nltk_data]   Unzipping corpora/stopwords.zip.\n",
            "[nltk_data] Downloading package wordnet to /root/nltk_data...\n",
            "[nltk_data]   Unzipping corpora/wordnet.zip.\n",
            "[nltk_data] Downloading package averaged_perceptron_tagger to\n",
            "[nltk_data]     /root/nltk_data...\n",
            "[nltk_data]   Unzipping taggers/averaged_perceptron_tagger.zip.\n"
          ],
          "name": "stdout"
        }
      ]
    },
    {
      "cell_type": "markdown",
      "metadata": {
        "id": "D8iE4D8e6xjy"
      },
      "source": [
        "# New section"
      ]
    },
    {
      "cell_type": "code",
      "metadata": {
        "id": "gjeHdSW8KHPh"
      },
      "source": [
        "def get_wordnet_pos(pos_tag):\n",
        "    if pos_tag.startswith('J'):\n",
        "        return wordnet.ADJ\n",
        "    elif pos_tag.startswith('V'):\n",
        "        return wordnet.VERB\n",
        "    elif pos_tag.startswith('N'):\n",
        "        return wordnet.NOUN\n",
        "    elif pos_tag.startswith('R'):\n",
        "        return wordnet.ADV\n",
        "    else:\n",
        "        return wordnet.NOUN\n",
        "\n",
        "def clean_text(text):\n",
        "    # lower text\n",
        "    text = text.lower()\n",
        "    # tokenize text and remove puncutation\n",
        "    text = [word.strip(string.punctuation) for word in text.split(\" \")]\n",
        "    # remove words that contain numbers\n",
        "    text = [word for word in text if not any(c.isdigit() for c in word)]\n",
        "    # remove stop words\n",
        "    stop = stopwords.words('english')\n",
        "    text = [x for x in text if x not in stop]\n",
        "    # remove empty tokens\n",
        "    text = [t for t in text if len(t) > 0]\n",
        "    # pos tag text\n",
        "    pos_tags = pos_tag(text)\n",
        "    # lemmatize text\n",
        "    text = [WordNetLemmatizer().lemmatize(t[0], get_wordnet_pos(t[1])) for t in pos_tags]\n",
        "    # remove words with only one letter\n",
        "    text = [t for t in text if len(t) > 1]\n",
        "    # join all\n",
        "    text = \" \".join(text)\n",
        "    return(text)"
      ],
      "execution_count": null,
      "outputs": []
    },
    {
      "cell_type": "code",
      "metadata": {
        "id": "nQ88VDoxKJYL"
      },
      "source": [
        "# clean text data\n",
        "reviews[\"review\"] = reviews[\"review\"].apply(lambda x: clean_text(x))"
      ],
      "execution_count": null,
      "outputs": []
    },
    {
      "cell_type": "code",
      "metadata": {
        "id": "j2HsozdyOuDH",
        "outputId": "36ce12d1-550b-4dff-f239-950798602039",
        "colab": {
          "base_uri": "https://localhost:8080/"
        }
      },
      "source": [
        "reviews_text = reviews['review'].tolist()\n",
        "labels = reviews['is_positive'].tolist()\n",
        "\n",
        "enc = LabelEncoder()\n",
        "encoded_labels = enc.fit_transform(labels)\n",
        "\n",
        "\n",
        "#TOKENIZE\n",
        "from nltk.tokenize import sent_tokenize\n",
        "from nltk.tokenize import word_tokenize\n",
        "from keras.preprocessing.text import Tokenizer\n",
        "import nltk\n",
        "nltk.download('punkt')\n",
        "complete_reviews=[] \n",
        "for review in reviews['review']:\n",
        "  for sent in sent_tokenize(review):\n",
        "    complete_reviews.append(sent)\n",
        "print('complete_reviews done') \n",
        "final_corpus = [sentence for sentence in complete_reviews if sentence.strip() !='']\n",
        "print('final corpus done')\n",
        "word_punctuation_tokenizer = nltk.WordPunctTokenizer()\n",
        "word_tokenized_corpus = [word_punctuation_tokenizer.tokenize(sent) for sent in final_corpus]"
      ],
      "execution_count": null,
      "outputs": [
        {
          "output_type": "stream",
          "text": [
            "[nltk_data] Downloading package punkt to /root/nltk_data...\n",
            "[nltk_data]   Unzipping tokenizers/punkt.zip.\n",
            "complete_reviews done\n",
            "final corpus done\n"
          ],
          "name": "stdout"
        }
      ]
    },
    {
      "cell_type": "code",
      "metadata": {
        "id": "GRTTsdI9Oxfg"
      },
      "source": [
        "# model parameters\n",
        "vocab_size = 28593\n",
        "embedding_dim = 128\n",
        "max_length = 128\n",
        "trunc_type='post'\n",
        "padding_type='post'\n",
        "oov_tok = \"<OOV>\"\n",
        "training_portion=0.7"
      ],
      "execution_count": null,
      "outputs": []
    },
    {
      "cell_type": "code",
      "metadata": {
        "id": "-OuyohhwO2vc",
        "outputId": "ed63b4a9-4e4b-4cad-8ae1-6e5fe0aad30d",
        "colab": {
          "base_uri": "https://localhost:8080/",
          "height": 298
        }
      },
      "source": [
        "import seaborn as sns\n",
        "sns.countplot(x=\"is_positive\",data=reviews)"
      ],
      "execution_count": null,
      "outputs": [
        {
          "output_type": "execute_result",
          "data": {
            "text/plain": [
              "<matplotlib.axes._subplots.AxesSubplot at 0x7f1f59ad4b70>"
            ]
          },
          "metadata": {
            "tags": []
          },
          "execution_count": 71
        },
        {
          "output_type": "display_data",
          "data": {
            "image/png": "[encoded data removed]",
            "text/plain": [
              "<Figure size 432x288 with 1 Axes>"
            ]
          },
          "metadata": {
            "tags": [],
            "needs_background": "light"
          }
        }
      ]
    },
    {
      "cell_type": "code",
      "metadata": {
        "id": "sgvTNVIGO40Q"
      },
      "source": [
        "from sklearn.model_selection import train_test_split"
      ],
      "execution_count": null,
      "outputs": []
    },
    {
      "cell_type": "code",
      "metadata": {
        "id": "OyVsuwImO7a5"
      },
      "source": [
        "# splitting dataset using stratified sampling\n",
        "x_train, x_val, y_train, y_val = train_test_split(reviews.review, \n",
        "                                                  reviews.is_positive, \n",
        "                                                  test_size=0.30, \n",
        "                                                  random_state=17,\n",
        "                                                  stratify=reviews.is_positive.values\n",
        "                                               )"
      ],
      "execution_count": null,
      "outputs": []
    },
    {
      "cell_type": "code",
      "metadata": {
        "id": "5aDvJDjrO9Xh"
      },
      "source": [
        "import pandas as pd\n",
        "data_train = pd.DataFrame()\n",
        "data_test  = pd.DataFrame()\n",
        "data_train['label'] = y_train\n",
        "data_train['text'] = x_train\n",
        "data_test['label'] = y_val\n",
        "data_test['text'] = x_val"
      ],
      "execution_count": null,
      "outputs": []
    },
    {
      "cell_type": "code",
      "metadata": {
        "id": "QeH7IDosO_tm",
        "outputId": "9d89d17b-2702-4767-c42d-8c98f557b7ea",
        "colab": {
          "base_uri": "https://localhost:8080/",
          "height": 143
        }
      },
      "source": [
        "train_sentences = data_train['text'].tolist()\n",
        "train_labels = data_train['label'].tolist()\n",
        "test_sentences = data_test['text'].tolist()\n",
        "test_labels = data_test['label'].tolist()\n",
        "data_train.groupby(['label']).count()"
      ],
      "execution_count": null,
      "outputs": [
        {
          "output_type": "execute_result",
          "data": {
            "text/html": [
              "<div>\n",
              "<style scoped>\n",
              "    .dataframe tbody tr th:only-of-type {\n",
              "        vertical-align: middle;\n",
              "    }\n",
              "\n",
              "    .dataframe tbody tr th {\n",
              "        vertical-align: top;\n",
              "    }\n",
              "\n",
              "    .dataframe thead th {\n",
              "        text-align: right;\n",
              "    }\n",
              "</style>\n",
              "<table border=\"1\" class=\"dataframe\">\n",
              "  <thead>\n",
              "    <tr style=\"text-align: right;\">\n",
              "      <th></th>\n",
              "      <th>text</th>\n",
              "    </tr>\n",
              "    <tr>\n",
              "      <th>label</th>\n",
              "      <th></th>\n",
              "    </tr>\n",
              "  </thead>\n",
              "  <tbody>\n",
              "    <tr>\n",
              "      <th>0</th>\n",
              "      <td>21000</td>\n",
              "    </tr>\n",
              "    <tr>\n",
              "      <th>1</th>\n",
              "      <td>21000</td>\n",
              "    </tr>\n",
              "  </tbody>\n",
              "</table>\n",
              "</div>"
            ],
            "text/plain": [
              "        text\n",
              "label       \n",
              "0      21000\n",
              "1      21000"
            ]
          },
          "metadata": {
            "tags": []
          },
          "execution_count": 74
        }
      ]
    },
    {
      "cell_type": "code",
      "metadata": {
        "id": "SM-3j5WbPCTI",
        "outputId": "1e116de6-5b9d-49fb-a665-37a02e803859",
        "colab": {
          "base_uri": "https://localhost:8080/"
        }
      },
      "source": [
        "#Ratio of +ve and -ve reviews in training dataset\n",
        "ratio = str(data_train['label'].value_counts()[0]/data_train['label'].value_counts()[1])\n",
        "print(\"ratio of +ve to -ve dataEntry- \"+ratio+\":1\")"
      ],
      "execution_count": null,
      "outputs": [
        {
          "output_type": "stream",
          "text": [
            "ratio of +ve to -ve dataEntry- 1.0:1\n"
          ],
          "name": "stdout"
        }
      ]
    },
    {
      "cell_type": "code",
      "metadata": {
        "id": "qyV61wAvPEmX",
        "outputId": "0e6913b3-bf75-4574-b9d4-a3eb86b0b68d",
        "colab": {
          "base_uri": "https://localhost:8080/"
        }
      },
      "source": [
        "y_train.head(n=10)"
      ],
      "execution_count": null,
      "outputs": [
        {
          "output_type": "execute_result",
          "data": {
            "text/plain": [
              "15393    0\n",
              "12330    1\n",
              "18976    0\n",
              "26737    1\n",
              "31241    1\n",
              "33259    0\n",
              "10836    0\n",
              "30247    0\n",
              "4817     0\n",
              "15889    0\n",
              "Name: is_positive, dtype: int64"
            ]
          },
          "metadata": {
            "tags": []
          },
          "execution_count": 76
        }
      ]
    },
    {
      "cell_type": "code",
      "metadata": {
        "id": "mrfGpRhZP4Ie",
        "outputId": "44a11b71-d77a-4506-9b39-2085462fd40b",
        "colab": {
          "base_uri": "https://localhost:8080/"
        }
      },
      "source": [
        "!pip install bert-for-tf2"
      ],
      "execution_count": null,
      "outputs": [
        {
          "output_type": "stream",
          "text": [
            "Collecting bert-for-tf2\n",
            "\u001b[?25l  Downloading https://files.pythonhosted.org/packages/18/d3/820ccaf55f1e24b5dd43583ac0da6d86c2d27bbdfffadbba69bafe73ca93/bert-for-tf2-0.14.7.tar.gz (41kB)\n",
            "\r\u001b[K     |████████                        | 10kB 13.7MB/s eta 0:00:01\r\u001b[K     |████████████████                | 20kB 2.1MB/s eta 0:00:01\r\u001b[K     |███████████████████████▉        | 30kB 2.6MB/s eta 0:00:01\r\u001b[K     |███████████████████████████████▉| 40kB 2.9MB/s eta 0:00:01\r\u001b[K     |████████████████████████████████| 51kB 2.3MB/s \n",
            "\u001b[?25hCollecting py-params>=0.9.6\n",
            "  Downloading https://files.pythonhosted.org/packages/a4/bf/c1c70d5315a8677310ea10a41cfc41c5970d9b37c31f9c90d4ab98021fd1/py-params-0.9.7.tar.gz\n",
            "Collecting params-flow>=0.8.0\n",
            "  Downloading https://files.pythonhosted.org/packages/a9/95/ff49f5ebd501f142a6f0aaf42bcfd1c192dc54909d1d9eb84ab031d46056/params-flow-0.8.2.tar.gz\n",
            "Requirement already satisfied: numpy in /usr/local/lib/python3.6/dist-packages (from params-flow>=0.8.0->bert-for-tf2) (1.18.5)\n",
            "Requirement already satisfied: tqdm in /usr/local/lib/python3.6/dist-packages (from params-flow>=0.8.0->bert-for-tf2) (4.41.1)\n",
            "Building wheels for collected packages: bert-for-tf2, py-params, params-flow\n",
            "  Building wheel for bert-for-tf2 (setup.py) ... \u001b[?25l\u001b[?25hdone\n",
            "  Created wheel for bert-for-tf2: filename=bert_for_tf2-0.14.7-cp36-none-any.whl size=30539 sha256=a0c1f1056776aaed05799d468c27b93602d984e574e0c3be1266d123c76a8b1a\n",
            "  Stored in directory: /root/.cache/pip/wheels/e1/f8/e2/b98f79a6b8cc898d8e4102b83acb8a098df7d27500a2bac912\n",
            "  Building wheel for py-params (setup.py) ... \u001b[?25l\u001b[?25hdone\n",
            "  Created wheel for py-params: filename=py_params-0.9.7-cp36-none-any.whl size=7304 sha256=8784c6a707549141a6bdbfd275886bb65a2c938f8b33aa592583970998679315\n",
            "  Stored in directory: /root/.cache/pip/wheels/67/f5/19/b461849a50aefdf4bab47c4756596e82ee2118b8278e5a1980\n",
            "  Building wheel for params-flow (setup.py) ... \u001b[?25l\u001b[?25hdone\n",
            "  Created wheel for params-flow: filename=params_flow-0.8.2-cp36-none-any.whl size=19475 sha256=c5f9027ba51e7f57f1a61fd4bd4c27147c7a57b69d4adbea7c959ddfbd4c9e3b\n",
            "  Stored in directory: /root/.cache/pip/wheels/08/c8/7f/81c86b9ff2b86e2c477e3914175be03e679e596067dc630c06\n",
            "Successfully built bert-for-tf2 py-params params-flow\n",
            "Installing collected packages: py-params, params-flow, bert-for-tf2\n",
            "Successfully installed bert-for-tf2-0.14.7 params-flow-0.8.2 py-params-0.9.7\n"
          ],
          "name": "stdout"
        }
      ]
    },
    {
      "cell_type": "code",
      "metadata": {
        "id": "YcTd_a8UQCzf",
        "outputId": "d539ad6c-13c4-4278-cdeb-6e1a5de881a8",
        "colab": {
          "base_uri": "https://localhost:8080/"
        }
      },
      "source": [
        "!pip install sentencepiece"
      ],
      "execution_count": null,
      "outputs": [
        {
          "output_type": "stream",
          "text": [
            "Collecting sentencepiece\n",
            "\u001b[?25l  Downloading https://files.pythonhosted.org/packages/e5/2d/6d4ca4bef9a67070fa1cac508606328329152b1df10bdf31fb6e4e727894/sentencepiece-0.1.94-cp36-cp36m-manylinux2014_x86_64.whl (1.1MB)\n",
            "\r\u001b[K     |▎                               | 10kB 15.3MB/s eta 0:00:01\r\u001b[K     |▋                               | 20kB 2.2MB/s eta 0:00:01\r\u001b[K     |▉                               | 30kB 2.8MB/s eta 0:00:01\r\u001b[K     |█▏                              | 40kB 3.0MB/s eta 0:00:01\r\u001b[K     |█▌                              | 51kB 2.5MB/s eta 0:00:01\r\u001b[K     |█▊                              | 61kB 2.8MB/s eta 0:00:01\r\u001b[K     |██                              | 71kB 3.0MB/s eta 0:00:01\r\u001b[K     |██▍                             | 81kB 3.4MB/s eta 0:00:01\r\u001b[K     |██▋                             | 92kB 3.1MB/s eta 0:00:01\r\u001b[K     |███                             | 102kB 3.4MB/s eta 0:00:01\r\u001b[K     |███▎                            | 112kB 3.4MB/s eta 0:00:01\r\u001b[K     |███▌                            | 122kB 3.4MB/s eta 0:00:01\r\u001b[K     |███▉                            | 133kB 3.4MB/s eta 0:00:01\r\u001b[K     |████▏                           | 143kB 3.4MB/s eta 0:00:01\r\u001b[K     |████▍                           | 153kB 3.4MB/s eta 0:00:01\r\u001b[K     |████▊                           | 163kB 3.4MB/s eta 0:00:01\r\u001b[K     |█████                           | 174kB 3.4MB/s eta 0:00:01\r\u001b[K     |█████▎                          | 184kB 3.4MB/s eta 0:00:01\r\u001b[K     |█████▋                          | 194kB 3.4MB/s eta 0:00:01\r\u001b[K     |█████▉                          | 204kB 3.4MB/s eta 0:00:01\r\u001b[K     |██████▏                         | 215kB 3.4MB/s eta 0:00:01\r\u001b[K     |██████▌                         | 225kB 3.4MB/s eta 0:00:01\r\u001b[K     |██████▊                         | 235kB 3.4MB/s eta 0:00:01\r\u001b[K     |███████                         | 245kB 3.4MB/s eta 0:00:01\r\u001b[K     |███████▍                        | 256kB 3.4MB/s eta 0:00:01\r\u001b[K     |███████▋                        | 266kB 3.4MB/s eta 0:00:01\r\u001b[K     |████████                        | 276kB 3.4MB/s eta 0:00:01\r\u001b[K     |████████▎                       | 286kB 3.4MB/s eta 0:00:01\r\u001b[K     |████████▌                       | 296kB 3.4MB/s eta 0:00:01\r\u001b[K     |████████▉                       | 307kB 3.4MB/s eta 0:00:01\r\u001b[K     |█████████                       | 317kB 3.4MB/s eta 0:00:01\r\u001b[K     |█████████▍                      | 327kB 3.4MB/s eta 0:00:01\r\u001b[K     |█████████▊                      | 337kB 3.4MB/s eta 0:00:01\r\u001b[K     |██████████                      | 348kB 3.4MB/s eta 0:00:01\r\u001b[K     |██████████▎                     | 358kB 3.4MB/s eta 0:00:01\r\u001b[K     |██████████▋                     | 368kB 3.4MB/s eta 0:00:01\r\u001b[K     |██████████▉                     | 378kB 3.4MB/s eta 0:00:01\r\u001b[K     |███████████▏                    | 389kB 3.4MB/s eta 0:00:01\r\u001b[K     |███████████▌                    | 399kB 3.4MB/s eta 0:00:01\r\u001b[K     |███████████▊                    | 409kB 3.4MB/s eta 0:00:01\r\u001b[K     |████████████                    | 419kB 3.4MB/s eta 0:00:01\r\u001b[K     |████████████▍                   | 430kB 3.4MB/s eta 0:00:01\r\u001b[K     |████████████▋                   | 440kB 3.4MB/s eta 0:00:01\r\u001b[K     |█████████████                   | 450kB 3.4MB/s eta 0:00:01\r\u001b[K     |█████████████▎                  | 460kB 3.4MB/s eta 0:00:01\r\u001b[K     |█████████████▌                  | 471kB 3.4MB/s eta 0:00:01\r\u001b[K     |█████████████▉                  | 481kB 3.4MB/s eta 0:00:01\r\u001b[K     |██████████████                  | 491kB 3.4MB/s eta 0:00:01\r\u001b[K     |██████████████▍                 | 501kB 3.4MB/s eta 0:00:01\r\u001b[K     |██████████████▊                 | 512kB 3.4MB/s eta 0:00:01\r\u001b[K     |███████████████                 | 522kB 3.4MB/s eta 0:00:01\r\u001b[K     |███████████████▎                | 532kB 3.4MB/s eta 0:00:01\r\u001b[K     |███████████████▋                | 542kB 3.4MB/s eta 0:00:01\r\u001b[K     |███████████████▉                | 552kB 3.4MB/s eta 0:00:01\r\u001b[K     |████████████████▏               | 563kB 3.4MB/s eta 0:00:01\r\u001b[K     |████████████████▌               | 573kB 3.4MB/s eta 0:00:01\r\u001b[K     |████████████████▊               | 583kB 3.4MB/s eta 0:00:01\r\u001b[K     |█████████████████               | 593kB 3.4MB/s eta 0:00:01\r\u001b[K     |█████████████████▍              | 604kB 3.4MB/s eta 0:00:01\r\u001b[K     |█████████████████▋              | 614kB 3.4MB/s eta 0:00:01\r\u001b[K     |██████████████████              | 624kB 3.4MB/s eta 0:00:01\r\u001b[K     |██████████████████▏             | 634kB 3.4MB/s eta 0:00:01\r\u001b[K     |██████████████████▌             | 645kB 3.4MB/s eta 0:00:01\r\u001b[K     |██████████████████▉             | 655kB 3.4MB/s eta 0:00:01\r\u001b[K     |███████████████████             | 665kB 3.4MB/s eta 0:00:01\r\u001b[K     |███████████████████▍            | 675kB 3.4MB/s eta 0:00:01\r\u001b[K     |███████████████████▊            | 686kB 3.4MB/s eta 0:00:01\r\u001b[K     |████████████████████            | 696kB 3.4MB/s eta 0:00:01\r\u001b[K     |████████████████████▎           | 706kB 3.4MB/s eta 0:00:01\r\u001b[K     |████████████████████▋           | 716kB 3.4MB/s eta 0:00:01\r\u001b[K     |████████████████████▉           | 727kB 3.4MB/s eta 0:00:01\r\u001b[K     |█████████████████████▏          | 737kB 3.4MB/s eta 0:00:01\r\u001b[K     |█████████████████████▌          | 747kB 3.4MB/s eta 0:00:01\r\u001b[K     |█████████████████████▊          | 757kB 3.4MB/s eta 0:00:01\r\u001b[K     |██████████████████████          | 768kB 3.4MB/s eta 0:00:01\r\u001b[K     |██████████████████████▎         | 778kB 3.4MB/s eta 0:00:01\r\u001b[K     |██████████████████████▋         | 788kB 3.4MB/s eta 0:00:01\r\u001b[K     |███████████████████████         | 798kB 3.4MB/s eta 0:00:01\r\u001b[K     |███████████████████████▏        | 808kB 3.4MB/s eta 0:00:01\r\u001b[K     |███████████████████████▌        | 819kB 3.4MB/s eta 0:00:01\r\u001b[K     |███████████████████████▉        | 829kB 3.4MB/s eta 0:00:01\r\u001b[K     |████████████████████████        | 839kB 3.4MB/s eta 0:00:01\r\u001b[K     |████████████████████████▍       | 849kB 3.4MB/s eta 0:00:01\r\u001b[K     |████████████████████████▊       | 860kB 3.4MB/s eta 0:00:01\r\u001b[K     |█████████████████████████       | 870kB 3.4MB/s eta 0:00:01\r\u001b[K     |█████████████████████████▎      | 880kB 3.4MB/s eta 0:00:01\r\u001b[K     |█████████████████████████▋      | 890kB 3.4MB/s eta 0:00:01\r\u001b[K     |█████████████████████████▉      | 901kB 3.4MB/s eta 0:00:01\r\u001b[K     |██████████████████████████▏     | 911kB 3.4MB/s eta 0:00:01\r\u001b[K     |██████████████████████████▌     | 921kB 3.4MB/s eta 0:00:01\r\u001b[K     |██████████████████████████▊     | 931kB 3.4MB/s eta 0:00:01\r\u001b[K     |███████████████████████████     | 942kB 3.4MB/s eta 0:00:01\r\u001b[K     |███████████████████████████▎    | 952kB 3.4MB/s eta 0:00:01\r\u001b[K     |███████████████████████████▋    | 962kB 3.4MB/s eta 0:00:01\r\u001b[K     |████████████████████████████    | 972kB 3.4MB/s eta 0:00:01\r\u001b[K     |████████████████████████████▏   | 983kB 3.4MB/s eta 0:00:01\r\u001b[K     |████████████████████████████▌   | 993kB 3.4MB/s eta 0:00:01\r\u001b[K     |████████████████████████████▉   | 1.0MB 3.4MB/s eta 0:00:01\r\u001b[K     |█████████████████████████████   | 1.0MB 3.4MB/s eta 0:00:01\r\u001b[K     |█████████████████████████████▍  | 1.0MB 3.4MB/s eta 0:00:01\r\u001b[K     |█████████████████████████████▊  | 1.0MB 3.4MB/s eta 0:00:01\r\u001b[K     |██████████████████████████████  | 1.0MB 3.4MB/s eta 0:00:01\r\u001b[K     |██████████████████████████████▎ | 1.1MB 3.4MB/s eta 0:00:01\r\u001b[K     |██████████████████████████████▋ | 1.1MB 3.4MB/s eta 0:00:01\r\u001b[K     |██████████████████████████████▉ | 1.1MB 3.4MB/s eta 0:00:01\r\u001b[K     |███████████████████████████████▏| 1.1MB 3.4MB/s eta 0:00:01\r\u001b[K     |███████████████████████████████▍| 1.1MB 3.4MB/s eta 0:00:01\r\u001b[K     |███████████████████████████████▊| 1.1MB 3.4MB/s eta 0:00:01\r\u001b[K     |████████████████████████████████| 1.1MB 3.4MB/s \n",
            "\u001b[?25hInstalling collected packages: sentencepiece\n",
            "Successfully installed sentencepiece-0.1.94\n"
          ],
          "name": "stdout"
        }
      ]
    },
    {
      "cell_type": "code",
      "metadata": {
        "id": "OudW_qHPQF_5",
        "outputId": "a723eaf5-ce6c-4f95-d8fb-680828ec5b90",
        "colab": {
          "base_uri": "https://localhost:8080/"
        }
      },
      "source": [
        "import bert\n",
        "!pip install \"tensorflow_hub>=0.6.0\"\n",
        "import tensorflow_hub as hub"
      ],
      "execution_count": null,
      "outputs": [
        {
          "output_type": "stream",
          "text": [
            "Requirement already satisfied: tensorflow_hub>=0.6.0 in /usr/local/lib/python3.6/dist-packages (0.10.0)\n",
            "Requirement already satisfied: protobuf>=3.8.0 in /usr/local/lib/python3.6/dist-packages (from tensorflow_hub>=0.6.0) (3.12.4)\n",
            "Requirement already satisfied: numpy>=1.12.0 in /usr/local/lib/python3.6/dist-packages (from tensorflow_hub>=0.6.0) (1.18.5)\n",
            "Requirement already satisfied: six>=1.9 in /usr/local/lib/python3.6/dist-packages (from protobuf>=3.8.0->tensorflow_hub>=0.6.0) (1.15.0)\n",
            "Requirement already satisfied: setuptools in /usr/local/lib/python3.6/dist-packages (from protobuf>=3.8.0->tensorflow_hub>=0.6.0) (50.3.2)\n"
          ],
          "name": "stdout"
        }
      ]
    },
    {
      "cell_type": "code",
      "metadata": {
        "id": "cmekLEUaQQC3"
      },
      "source": [
        "BertTokenizer = bert.bert_tokenization.FullTokenizer"
      ],
      "execution_count": null,
      "outputs": []
    },
    {
      "cell_type": "code",
      "metadata": {
        "id": "SnPn8z8iQR81"
      },
      "source": [
        "model_url = \"https://tfhub.dev/tensorflow/bert_en_cased_L-12_H-768_A-12/1\"\n",
        "bert_layer = hub.KerasLayer(model_url, trainable=False)\n",
        "vocab_file = bert_layer.resolved_object.vocab_file.asset_path.numpy()"
      ],
      "execution_count": null,
      "outputs": []
    },
    {
      "cell_type": "code",
      "metadata": {
        "id": "wAiOMJ2-QUrA"
      },
      "source": [
        "to_lower_case = bert_layer.resolved_object.do_lower_case.numpy()\n",
        "tokenizer = BertTokenizer(vocab_file, to_lower_case)"
      ],
      "execution_count": null,
      "outputs": []
    },
    {
      "cell_type": "code",
      "metadata": {
        "id": "A9VX24tBQZ_D",
        "outputId": "80c96946-3a74-4fab-f45a-fd5d226ae8d7",
        "colab": {
          "base_uri": "https://localhost:8080/"
        }
      },
      "source": [
        "tokenizer.tokenize(\"This hotel is sooo nice\")\n",
        "print(len(tokenizer.vocab))"
      ],
      "execution_count": null,
      "outputs": [
        {
          "output_type": "stream",
          "text": [
            "28996\n"
          ],
          "name": "stdout"
        }
      ]
    },
    {
      "cell_type": "code",
      "metadata": {
        "id": "Q7oi5CKjQcWB"
      },
      "source": [
        "def tokenize_reviews(text_review):\n",
        "    return tokenizer.convert_tokens_to_ids(tokenizer.tokenize(text_review))"
      ],
      "execution_count": null,
      "outputs": []
    },
    {
      "cell_type": "code",
      "metadata": {
        "id": "LLI3PqqOQfhC"
      },
      "source": [
        "tokenized_review = [tokenize_reviews(review) for review in reviews_text]"
      ],
      "execution_count": null,
      "outputs": []
    },
    {
      "cell_type": "code",
      "metadata": {
        "id": "g4-JRarfQiqF"
      },
      "source": [
        "vocab_size = len(tokenizer.vocab) + 1\n",
        "embedding_dim = 128\n",
        "max_length = 128\n",
        "trunc_type='post'\n",
        "padding_type='post'\n",
        "oov_tok = \"<OOV>\"\n",
        "training_portion=0.7"
      ],
      "execution_count": null,
      "outputs": []
    },
    {
      "cell_type": "code",
      "metadata": {
        "id": "rR57aCjUQ-3r"
      },
      "source": [
        "train_tokens = list(map(lambda t: ['[CLS]'] + tokenizer.tokenize(t)[:127], train_sentences))\n",
        "test_tokens = list(map(lambda t: ['[CLS]'] + tokenizer.tokenize(t)[:127], test_sentences))"
      ],
      "execution_count": null,
      "outputs": []
    },
    {
      "cell_type": "code",
      "metadata": {
        "id": "iER6V61WRN4k"
      },
      "source": [
        "train_tokens_ids = list(map(tokenizer.convert_tokens_to_ids, train_tokens))"
      ],
      "execution_count": null,
      "outputs": []
    },
    {
      "cell_type": "code",
      "metadata": {
        "id": "Ef7R9_PzTYV0"
      },
      "source": [
        "test_tokens_ids = list(map(tokenizer.convert_tokens_to_ids, test_tokens))"
      ],
      "execution_count": null,
      "outputs": []
    },
    {
      "cell_type": "code",
      "metadata": {
        "id": "wD4YwOoATfIb"
      },
      "source": [
        "train_padded = tf.keras.preprocessing.sequence.pad_sequences(train_tokens_ids, maxlen=128, truncating=\"post\", padding=\"post\", dtype=\"int\")\n",
        "test_padded = tf.keras.preprocessing.sequence.pad_sequences(test_tokens_ids, maxlen=128, truncating=\"post\", padding=\"post\", dtype=\"int\")"
      ],
      "execution_count": null,
      "outputs": []
    },
    {
      "cell_type": "code",
      "metadata": {
        "id": "DIpddVAkT_VE"
      },
      "source": [
        "train_padded = np.array(train_padded)\n",
        "train_labels = np.array(train_labels)\n",
        "test_padded = np.array(test_padded)\n",
        "test_labels = np.array(test_labels)"
      ],
      "execution_count": null,
      "outputs": []
    },
    {
      "cell_type": "code",
      "metadata": {
        "id": "TGCMvt7DEy3H"
      },
      "source": [
        "from keras.models import Model\n",
        "from keras.layers import Input\n",
        "from keras.layers import Dense\n",
        "from keras.layers import Flatten\n",
        "from keras.layers import Dropout\n",
        "from keras.layers import Embedding\n",
        "from keras.layers.convolutional import Conv1D\n",
        "from keras.layers.convolutional import MaxPooling1D\n",
        "from keras.layers.merge import concatenate\n",
        "from keras.utils.vis_utils import plot_model"
      ],
      "execution_count": null,
      "outputs": []
    },
    {
      "cell_type": "code",
      "metadata": {
        "id": "824BuvegeurW",
        "outputId": "2cce55b1-8054-48fb-ec7c-3cf4023cd5d2",
        "colab": {
          "base_uri": "https://localhost:8080/"
        }
      },
      "source": [
        "print(len(train_labels))"
      ],
      "execution_count": null,
      "outputs": [
        {
          "output_type": "stream",
          "text": [
            "42000\n"
          ],
          "name": "stdout"
        }
      ]
    },
    {
      "cell_type": "code",
      "metadata": {
        "id": "h8YAFoLwZ2sW",
        "outputId": "bffd2e8f-7a3d-4f69-980c-586bff9c635f",
        "colab": {
          "base_uri": "https://localhost:8080/"
        }
      },
      "source": [
        "model = tf.keras.Sequential([\n",
        "  tf.keras.layers.Embedding(vocab_size, embedding_dim, input_length=max_length),\n",
        "  tf.keras.layers.Conv1D(128, 5, activation='relu'),\n",
        "  tf.keras.layers.Bidirectional(tf.keras.layers.LSTM(32)),\n",
        "  tf.keras.layers.Dense(24, activation='relu'),\n",
        "  tf.keras.layers.Dense(1, activation='sigmoid' )\n",
        "])\n",
        "\n",
        "#compile model\n",
        "model.compile(loss=\"binary_crossentropy\",\n",
        "             optimizer=\"adam\",\n",
        "             metrics=['accuracy'])\n",
        "#model.build(input_shape=[len(train_padded),512,128])\n",
        "\n",
        "model.summary()"
      ],
      "execution_count": null,
      "outputs": [
        {
          "output_type": "stream",
          "text": [
            "Model: \"sequential_18\"\n",
            "_________________________________________________________________\n",
            "Layer (type)                 Output Shape              Param #   \n",
            "=================================================================\n",
            "embedding_5 (Embedding)      (None, 128, 128)          3711616   \n",
            "_________________________________________________________________\n",
            "conv1d_20 (Conv1D)           (None, 124, 128)          82048     \n",
            "_________________________________________________________________\n",
            "bidirectional_18 (Bidirectio (None, 64)                41216     \n",
            "_________________________________________________________________\n",
            "dense_38 (Dense)             (None, 24)                1560      \n",
            "_________________________________________________________________\n",
            "dense_39 (Dense)             (None, 1)                 25        \n",
            "=================================================================\n",
            "Total params: 3,836,465\n",
            "Trainable params: 3,836,465\n",
            "Non-trainable params: 0\n",
            "_________________________________________________________________\n"
          ],
          "name": "stdout"
        }
      ]
    },
    {
      "cell_type": "code",
      "metadata": {
        "id": "uSzBIn-iUvSt"
      },
      "source": [
        "length = 128\n",
        "vocab_size = len(tokenizer.vocab) + 1"
      ],
      "execution_count": null,
      "outputs": []
    },
    {
      "cell_type": "code",
      "metadata": {
        "id": "oSrySzRBU5-S",
        "outputId": "d0cfa7b0-4b00-43ae-a629-05fe19445ac2",
        "colab": {
          "base_uri": "https://localhost:8080/"
        }
      },
      "source": [
        "history = model.fit(train_padded, train_labels, verbose=1, epochs=10, validation_data=(test_padded, test_labels))"
      ],
      "execution_count": null,
      "outputs": [
        {
          "output_type": "stream",
          "text": [
            "Epoch 1/10\n",
            "1313/1313 [==============================] - 252s 192ms/step - loss: 0.2180 - accuracy: 0.9163 - val_loss: 0.1937 - val_accuracy: 0.9300\n",
            "Epoch 2/10\n",
            "1313/1313 [==============================] - 249s 190ms/step - loss: 0.1565 - accuracy: 0.9443 - val_loss: 0.1902 - val_accuracy: 0.9285\n",
            "Epoch 3/10\n",
            "1313/1313 [==============================] - 248s 189ms/step - loss: 0.1279 - accuracy: 0.9552 - val_loss: 0.2083 - val_accuracy: 0.9261\n",
            "Epoch 4/10\n",
            "1313/1313 [==============================] - 249s 190ms/step - loss: 0.1089 - accuracy: 0.9624 - val_loss: 0.2308 - val_accuracy: 0.9258\n",
            "Epoch 5/10\n",
            "1313/1313 [==============================] - 247s 188ms/step - loss: 0.0909 - accuracy: 0.9691 - val_loss: 0.2469 - val_accuracy: 0.9229\n",
            "Epoch 6/10\n",
            "1313/1313 [==============================] - 245s 187ms/step - loss: 0.0765 - accuracy: 0.9738 - val_loss: 0.2693 - val_accuracy: 0.9238\n",
            "Epoch 7/10\n",
            "1313/1313 [==============================] - 248s 189ms/step - loss: 0.0702 - accuracy: 0.9758 - val_loss: 0.2885 - val_accuracy: 0.9222\n",
            "Epoch 8/10\n",
            "1313/1313 [==============================] - 253s 193ms/step - loss: 0.0610 - accuracy: 0.9790 - val_loss: 0.3150 - val_accuracy: 0.9241\n",
            "Epoch 9/10\n",
            "1313/1313 [==============================] - 252s 192ms/step - loss: 0.0586 - accuracy: 0.9788 - val_loss: 0.3069 - val_accuracy: 0.9222\n",
            "Epoch 10/10\n",
            "1313/1313 [==============================] - 257s 196ms/step - loss: 0.0542 - accuracy: 0.9808 - val_loss: 0.3286 - val_accuracy: 0.9222\n"
          ],
          "name": "stdout"
        }
      ]
    },
    {
      "cell_type": "code",
      "metadata": {
        "id": "-Dw8tDT-3qXc",
        "outputId": "adab9741-eb34-49e0-8dec-83b05512b931",
        "colab": {
          "base_uri": "https://localhost:8080/",
          "height": 135
        }
      },
      "source": [
        "from sklearn.metrics import f1_score, precision_score, recall_score, confusion_matrix,accuracy_score\n",
        "print(\"F1-score: {0}\".format(f1_score(x_pred, y_pred)))\n",
        "print(\"Precision: \",precision_score(y_pred, y_pred))\n",
        "print(\"Recall: \",recall_score(y_pred, y_pred))\n",
        "print(\"Accuracy: \",accuracy_score(y_pred,y_pred))\n",
        "print(\"Confusion matrix: \")\n",
        "confusion_matrix(y_pred, y_pred)"
      ],
      "execution_count": null,
      "outputs": [
        {
          "output_type": "error",
          "ename": "SyntaxError",
          "evalue": "ignored",
          "traceback": [
            "\u001b[0;36m  File \u001b[0;32m\"<ipython-input-108-8f3f43b02d70>\"\u001b[0;36m, line \u001b[0;32m7\u001b[0m\n\u001b[0;31m    print(\"Precision: \",precision_score(x_pred, y_pred))\u001b[0m\n\u001b[0m        ^\u001b[0m\n\u001b[0;31mSyntaxError\u001b[0m\u001b[0;31m:\u001b[0m invalid syntax\n"
          ]
        }
      ]
    },
    {
      "cell_type": "markdown",
      "metadata": {
        "id": "piZZ6yBBVX75"
      },
      "source": [
        ""
      ]
    },
    {
      "cell_type": "code",
      "metadata": {
        "id": "w63UV7CFU8QO",
        "outputId": "bfcddf22-580e-438e-d497-5a051e2a5c7e",
        "colab": {
          "base_uri": "https://localhost:8080/",
          "height": 651
        }
      },
      "source": [
        "plt.figure(figsize=(10,5))\n",
        "plt.subplot(1,2,1)\n",
        "plt.plot(history.history['accuracy'], label='Training Accuracy')\n",
        "plt.plot(history.history['val_accuracy'], label='Validation Accuracy')\n",
        "plt.xlabel(\"Epochs\")\n",
        "plt.ylabel(\"Accuracy\")\n",
        "\n",
        "plt.figure(figsize=(10,5))\n",
        "plt.subplot(1,2,1)\n",
        "plt.plot(history.history['loss'], label='Training Loss')\n",
        "plt.plot(history.history['val_loss'], label='Validation Loss')\n",
        "plt.xlabel(\"Epochs\")\n",
        "plt.ylabel(\"Loss\")\n",
        "\n",
        "plt.legend()\n",
        "plt.show()"
      ],
      "execution_count": null,
      "outputs": [
        {
          "output_type": "display_data",
          "data": {
            "image/png": "[encoded data removed]",
            "text/plain": [
              "<Figure size 720x360 with 1 Axes>"
            ]
          },
          "metadata": {
            "tags": [],
            "needs_background": "light"
          }
        },
        {
          "output_type": "display_data",
          "data": {
            "image/png": "[encoded data removed]",
            "text/plain": [
              "<Figure size 720x360 with 1 Axes>"
            ]
          },
          "metadata": {
            "tags": [],
            "needs_background": "light"
          }
        }
      ]
    }
  ]
}