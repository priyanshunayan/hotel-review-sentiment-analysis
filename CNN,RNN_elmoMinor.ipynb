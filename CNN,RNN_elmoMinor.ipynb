{
  "nbformat": 4,
  "nbformat_minor": 0,
  "metadata": {
    "accelerator": "GPU",
    "colab": {
      "name": "CNN,RNN elmoMinor",
      "provenance": [],
      "collapsed_sections": []
    },
    "kernelspec": {
      "display_name": "Python 3",
      "name": "python3"
    }
  },
  "cells": [
    {
      "cell_type": "markdown",
      "metadata": {
        "id": "3dAw1xhlSZjk"
      },
      "source": [
        "# Elmo"
      ]
    },
    {
      "cell_type": "markdown",
      "metadata": {
        "id": "Pv51hxXAWLqy"
      },
      "source": [
        "## Import Packages"
      ]
    },
    {
      "cell_type": "code",
      "metadata": {
        "id": "YWD2PY8jfudF",
        "outputId": "7dc3838b-8638-4ee0-f6b8-1f0b7ae74e3f",
        "colab": {
          "base_uri": "https://localhost:8080/"
        }
      },
      "source": [
        "!pip install tensorflow==2.3\n",
        "!pip install \"tensorflow_hub>=0.6.0\"\n",
        "!pip3 install tensorflow_text==2.3"
      ],
      "execution_count": null,
      "outputs": [
        {
          "output_type": "stream",
          "text": [
            "Requirement already satisfied: tensorflow==2.3 in /usr/local/lib/python3.6/dist-packages (2.3.0)\n",
            "Requirement already satisfied: google-pasta>=0.1.8 in /usr/local/lib/python3.6/dist-packages (from tensorflow==2.3) (0.2.0)\n",
            "Requirement already satisfied: scipy==1.4.1 in /usr/local/lib/python3.6/dist-packages (from tensorflow==2.3) (1.4.1)\n",
            "Requirement already satisfied: opt-einsum>=2.3.2 in /usr/local/lib/python3.6/dist-packages (from tensorflow==2.3) (3.3.0)\n",
            "Requirement already satisfied: grpcio>=1.8.6 in /usr/local/lib/python3.6/dist-packages (from tensorflow==2.3) (1.33.1)\n",
            "Requirement already satisfied: tensorflow-estimator<2.4.0,>=2.3.0 in /usr/local/lib/python3.6/dist-packages (from tensorflow==2.3) (2.3.0)\n",
            "Requirement already satisfied: keras-preprocessing<1.2,>=1.1.1 in /usr/local/lib/python3.6/dist-packages (from tensorflow==2.3) (1.1.2)\n",
            "Requirement already satisfied: termcolor>=1.1.0 in /usr/local/lib/python3.6/dist-packages (from tensorflow==2.3) (1.1.0)\n",
            "Requirement already satisfied: protobuf>=3.9.2 in /usr/local/lib/python3.6/dist-packages (from tensorflow==2.3) (3.12.4)\n",
            "Requirement already satisfied: numpy<1.19.0,>=1.16.0 in /usr/local/lib/python3.6/dist-packages (from tensorflow==2.3) (1.18.5)\n",
            "Requirement already satisfied: tensorboard<3,>=2.3.0 in /usr/local/lib/python3.6/dist-packages (from tensorflow==2.3) (2.3.0)\n",
            "Requirement already satisfied: wrapt>=1.11.1 in /usr/local/lib/python3.6/dist-packages (from tensorflow==2.3) (1.12.1)\n",
            "Requirement already satisfied: wheel>=0.26 in /usr/local/lib/python3.6/dist-packages (from tensorflow==2.3) (0.35.1)\n",
            "Requirement already satisfied: astunparse==1.6.3 in /usr/local/lib/python3.6/dist-packages (from tensorflow==2.3) (1.6.3)\n",
            "Requirement already satisfied: gast==0.3.3 in /usr/local/lib/python3.6/dist-packages (from tensorflow==2.3) (0.3.3)\n",
            "Requirement already satisfied: six>=1.12.0 in /usr/local/lib/python3.6/dist-packages (from tensorflow==2.3) (1.15.0)\n",
            "Requirement already satisfied: h5py<2.11.0,>=2.10.0 in /usr/local/lib/python3.6/dist-packages (from tensorflow==2.3) (2.10.0)\n",
            "Requirement already satisfied: absl-py>=0.7.0 in /usr/local/lib/python3.6/dist-packages (from tensorflow==2.3) (0.10.0)\n",
            "Requirement already satisfied: setuptools in /usr/local/lib/python3.6/dist-packages (from protobuf>=3.9.2->tensorflow==2.3) (50.3.2)\n",
            "Requirement already satisfied: google-auth<2,>=1.6.3 in /usr/local/lib/python3.6/dist-packages (from tensorboard<3,>=2.3.0->tensorflow==2.3) (1.17.2)\n",
            "Requirement already satisfied: tensorboard-plugin-wit>=1.6.0 in /usr/local/lib/python3.6/dist-packages (from tensorboard<3,>=2.3.0->tensorflow==2.3) (1.7.0)\n",
            "Requirement already satisfied: google-auth-oauthlib<0.5,>=0.4.1 in /usr/local/lib/python3.6/dist-packages (from tensorboard<3,>=2.3.0->tensorflow==2.3) (0.4.1)\n",
            "Requirement already satisfied: requests<3,>=2.21.0 in /usr/local/lib/python3.6/dist-packages (from tensorboard<3,>=2.3.0->tensorflow==2.3) (2.23.0)\n",
            "Requirement already satisfied: werkzeug>=0.11.15 in /usr/local/lib/python3.6/dist-packages (from tensorboard<3,>=2.3.0->tensorflow==2.3) (1.0.1)\n",
            "Requirement already satisfied: markdown>=2.6.8 in /usr/local/lib/python3.6/dist-packages (from tensorboard<3,>=2.3.0->tensorflow==2.3) (3.3.2)\n",
            "Requirement already satisfied: pyasn1-modules>=0.2.1 in /usr/local/lib/python3.6/dist-packages (from google-auth<2,>=1.6.3->tensorboard<3,>=2.3.0->tensorflow==2.3) (0.2.8)\n",
            "Requirement already satisfied: cachetools<5.0,>=2.0.0 in /usr/local/lib/python3.6/dist-packages (from google-auth<2,>=1.6.3->tensorboard<3,>=2.3.0->tensorflow==2.3) (4.1.1)\n",
            "Requirement already satisfied: rsa<5,>=3.1.4; python_version >= \"3\" in /usr/local/lib/python3.6/dist-packages (from google-auth<2,>=1.6.3->tensorboard<3,>=2.3.0->tensorflow==2.3) (4.6)\n",
            "Requirement already satisfied: requests-oauthlib>=0.7.0 in /usr/local/lib/python3.6/dist-packages (from google-auth-oauthlib<0.5,>=0.4.1->tensorboard<3,>=2.3.0->tensorflow==2.3) (1.3.0)\n",
            "Requirement already satisfied: urllib3!=1.25.0,!=1.25.1,<1.26,>=1.21.1 in /usr/local/lib/python3.6/dist-packages (from requests<3,>=2.21.0->tensorboard<3,>=2.3.0->tensorflow==2.3) (1.24.3)\n",
            "Requirement already satisfied: chardet<4,>=3.0.2 in /usr/local/lib/python3.6/dist-packages (from requests<3,>=2.21.0->tensorboard<3,>=2.3.0->tensorflow==2.3) (3.0.4)\n",
            "Requirement already satisfied: certifi>=2017.4.17 in /usr/local/lib/python3.6/dist-packages (from requests<3,>=2.21.0->tensorboard<3,>=2.3.0->tensorflow==2.3) (2020.6.20)\n",
            "Requirement already satisfied: idna<3,>=2.5 in /usr/local/lib/python3.6/dist-packages (from requests<3,>=2.21.0->tensorboard<3,>=2.3.0->tensorflow==2.3) (2.10)\n",
            "Requirement already satisfied: importlib-metadata; python_version < \"3.8\" in /usr/local/lib/python3.6/dist-packages (from markdown>=2.6.8->tensorboard<3,>=2.3.0->tensorflow==2.3) (2.0.0)\n",
            "Requirement already satisfied: pyasn1<0.5.0,>=0.4.6 in /usr/local/lib/python3.6/dist-packages (from pyasn1-modules>=0.2.1->google-auth<2,>=1.6.3->tensorboard<3,>=2.3.0->tensorflow==2.3) (0.4.8)\n",
            "Requirement already satisfied: oauthlib>=3.0.0 in /usr/local/lib/python3.6/dist-packages (from requests-oauthlib>=0.7.0->google-auth-oauthlib<0.5,>=0.4.1->tensorboard<3,>=2.3.0->tensorflow==2.3) (3.1.0)\n",
            "Requirement already satisfied: zipp>=0.5 in /usr/local/lib/python3.6/dist-packages (from importlib-metadata; python_version < \"3.8\"->markdown>=2.6.8->tensorboard<3,>=2.3.0->tensorflow==2.3) (3.3.1)\n",
            "Requirement already satisfied: tensorflow_hub>=0.6.0 in /usr/local/lib/python3.6/dist-packages (0.9.0)\n",
            "Requirement already satisfied: six>=1.12.0 in /usr/local/lib/python3.6/dist-packages (from tensorflow_hub>=0.6.0) (1.15.0)\n",
            "Requirement already satisfied: numpy>=1.12.0 in /usr/local/lib/python3.6/dist-packages (from tensorflow_hub>=0.6.0) (1.18.5)\n",
            "Requirement already satisfied: protobuf>=3.8.0 in /usr/local/lib/python3.6/dist-packages (from tensorflow_hub>=0.6.0) (3.12.4)\n",
            "Requirement already satisfied: setuptools in /usr/local/lib/python3.6/dist-packages (from protobuf>=3.8.0->tensorflow_hub>=0.6.0) (50.3.2)\n",
            "Collecting tensorflow_text==2.3\n",
            "\u001b[?25l  Downloading https://files.pythonhosted.org/packages/28/b2/2dbd90b93913afd07e6101b8b84327c401c394e60141c1e98590038060b3/tensorflow_text-2.3.0-cp36-cp36m-manylinux1_x86_64.whl (2.6MB)\n",
            "\u001b[K     |████████████████████████████████| 2.6MB 5.2MB/s \n",
            "\u001b[?25hRequirement already satisfied: tensorflow<2.4,>=2.3.0 in /usr/local/lib/python3.6/dist-packages (from tensorflow_text==2.3) (2.3.0)\n",
            "Requirement already satisfied: protobuf>=3.9.2 in /usr/local/lib/python3.6/dist-packages (from tensorflow<2.4,>=2.3.0->tensorflow_text==2.3) (3.12.4)\n",
            "Requirement already satisfied: h5py<2.11.0,>=2.10.0 in /usr/local/lib/python3.6/dist-packages (from tensorflow<2.4,>=2.3.0->tensorflow_text==2.3) (2.10.0)\n",
            "Requirement already satisfied: astunparse==1.6.3 in /usr/local/lib/python3.6/dist-packages (from tensorflow<2.4,>=2.3.0->tensorflow_text==2.3) (1.6.3)\n",
            "Requirement already satisfied: gast==0.3.3 in /usr/local/lib/python3.6/dist-packages (from tensorflow<2.4,>=2.3.0->tensorflow_text==2.3) (0.3.3)\n",
            "Requirement already satisfied: numpy<1.19.0,>=1.16.0 in /usr/local/lib/python3.6/dist-packages (from tensorflow<2.4,>=2.3.0->tensorflow_text==2.3) (1.18.5)\n",
            "Requirement already satisfied: tensorboard<3,>=2.3.0 in /usr/local/lib/python3.6/dist-packages (from tensorflow<2.4,>=2.3.0->tensorflow_text==2.3) (2.3.0)\n",
            "Requirement already satisfied: keras-preprocessing<1.2,>=1.1.1 in /usr/local/lib/python3.6/dist-packages (from tensorflow<2.4,>=2.3.0->tensorflow_text==2.3) (1.1.2)\n",
            "Requirement already satisfied: termcolor>=1.1.0 in /usr/local/lib/python3.6/dist-packages (from tensorflow<2.4,>=2.3.0->tensorflow_text==2.3) (1.1.0)\n",
            "Requirement already satisfied: wheel>=0.26 in /usr/local/lib/python3.6/dist-packages (from tensorflow<2.4,>=2.3.0->tensorflow_text==2.3) (0.35.1)\n",
            "Requirement already satisfied: scipy==1.4.1 in /usr/local/lib/python3.6/dist-packages (from tensorflow<2.4,>=2.3.0->tensorflow_text==2.3) (1.4.1)\n",
            "Requirement already satisfied: grpcio>=1.8.6 in /usr/local/lib/python3.6/dist-packages (from tensorflow<2.4,>=2.3.0->tensorflow_text==2.3) (1.33.1)\n",
            "Requirement already satisfied: six>=1.12.0 in /usr/local/lib/python3.6/dist-packages (from tensorflow<2.4,>=2.3.0->tensorflow_text==2.3) (1.15.0)\n",
            "Requirement already satisfied: tensorflow-estimator<2.4.0,>=2.3.0 in /usr/local/lib/python3.6/dist-packages (from tensorflow<2.4,>=2.3.0->tensorflow_text==2.3) (2.3.0)\n",
            "Requirement already satisfied: opt-einsum>=2.3.2 in /usr/local/lib/python3.6/dist-packages (from tensorflow<2.4,>=2.3.0->tensorflow_text==2.3) (3.3.0)\n",
            "Requirement already satisfied: wrapt>=1.11.1 in /usr/local/lib/python3.6/dist-packages (from tensorflow<2.4,>=2.3.0->tensorflow_text==2.3) (1.12.1)\n",
            "Requirement already satisfied: google-pasta>=0.1.8 in /usr/local/lib/python3.6/dist-packages (from tensorflow<2.4,>=2.3.0->tensorflow_text==2.3) (0.2.0)\n",
            "Requirement already satisfied: absl-py>=0.7.0 in /usr/local/lib/python3.6/dist-packages (from tensorflow<2.4,>=2.3.0->tensorflow_text==2.3) (0.10.0)\n",
            "Requirement already satisfied: setuptools in /usr/local/lib/python3.6/dist-packages (from protobuf>=3.9.2->tensorflow<2.4,>=2.3.0->tensorflow_text==2.3) (50.3.2)\n",
            "Requirement already satisfied: tensorboard-plugin-wit>=1.6.0 in /usr/local/lib/python3.6/dist-packages (from tensorboard<3,>=2.3.0->tensorflow<2.4,>=2.3.0->tensorflow_text==2.3) (1.7.0)\n",
            "Requirement already satisfied: werkzeug>=0.11.15 in /usr/local/lib/python3.6/dist-packages (from tensorboard<3,>=2.3.0->tensorflow<2.4,>=2.3.0->tensorflow_text==2.3) (1.0.1)\n",
            "Requirement already satisfied: markdown>=2.6.8 in /usr/local/lib/python3.6/dist-packages (from tensorboard<3,>=2.3.0->tensorflow<2.4,>=2.3.0->tensorflow_text==2.3) (3.3.2)\n",
            "Requirement already satisfied: google-auth-oauthlib<0.5,>=0.4.1 in /usr/local/lib/python3.6/dist-packages (from tensorboard<3,>=2.3.0->tensorflow<2.4,>=2.3.0->tensorflow_text==2.3) (0.4.1)\n",
            "Requirement already satisfied: google-auth<2,>=1.6.3 in /usr/local/lib/python3.6/dist-packages (from tensorboard<3,>=2.3.0->tensorflow<2.4,>=2.3.0->tensorflow_text==2.3) (1.17.2)\n",
            "Requirement already satisfied: requests<3,>=2.21.0 in /usr/local/lib/python3.6/dist-packages (from tensorboard<3,>=2.3.0->tensorflow<2.4,>=2.3.0->tensorflow_text==2.3) (2.23.0)\n",
            "Requirement already satisfied: importlib-metadata; python_version < \"3.8\" in /usr/local/lib/python3.6/dist-packages (from markdown>=2.6.8->tensorboard<3,>=2.3.0->tensorflow<2.4,>=2.3.0->tensorflow_text==2.3) (2.0.0)\n",
            "Requirement already satisfied: requests-oauthlib>=0.7.0 in /usr/local/lib/python3.6/dist-packages (from google-auth-oauthlib<0.5,>=0.4.1->tensorboard<3,>=2.3.0->tensorflow<2.4,>=2.3.0->tensorflow_text==2.3) (1.3.0)\n",
            "Requirement already satisfied: cachetools<5.0,>=2.0.0 in /usr/local/lib/python3.6/dist-packages (from google-auth<2,>=1.6.3->tensorboard<3,>=2.3.0->tensorflow<2.4,>=2.3.0->tensorflow_text==2.3) (4.1.1)\n",
            "Requirement already satisfied: rsa<5,>=3.1.4; python_version >= \"3\" in /usr/local/lib/python3.6/dist-packages (from google-auth<2,>=1.6.3->tensorboard<3,>=2.3.0->tensorflow<2.4,>=2.3.0->tensorflow_text==2.3) (4.6)\n",
            "Requirement already satisfied: pyasn1-modules>=0.2.1 in /usr/local/lib/python3.6/dist-packages (from google-auth<2,>=1.6.3->tensorboard<3,>=2.3.0->tensorflow<2.4,>=2.3.0->tensorflow_text==2.3) (0.2.8)\n",
            "Requirement already satisfied: idna<3,>=2.5 in /usr/local/lib/python3.6/dist-packages (from requests<3,>=2.21.0->tensorboard<3,>=2.3.0->tensorflow<2.4,>=2.3.0->tensorflow_text==2.3) (2.10)\n",
            "Requirement already satisfied: chardet<4,>=3.0.2 in /usr/local/lib/python3.6/dist-packages (from requests<3,>=2.21.0->tensorboard<3,>=2.3.0->tensorflow<2.4,>=2.3.0->tensorflow_text==2.3) (3.0.4)\n",
            "Requirement already satisfied: urllib3!=1.25.0,!=1.25.1,<1.26,>=1.21.1 in /usr/local/lib/python3.6/dist-packages (from requests<3,>=2.21.0->tensorboard<3,>=2.3.0->tensorflow<2.4,>=2.3.0->tensorflow_text==2.3) (1.24.3)\n",
            "Requirement already satisfied: certifi>=2017.4.17 in /usr/local/lib/python3.6/dist-packages (from requests<3,>=2.21.0->tensorboard<3,>=2.3.0->tensorflow<2.4,>=2.3.0->tensorflow_text==2.3) (2020.6.20)\n",
            "Requirement already satisfied: zipp>=0.5 in /usr/local/lib/python3.6/dist-packages (from importlib-metadata; python_version < \"3.8\"->markdown>=2.6.8->tensorboard<3,>=2.3.0->tensorflow<2.4,>=2.3.0->tensorflow_text==2.3) (3.3.1)\n",
            "Requirement already satisfied: oauthlib>=3.0.0 in /usr/local/lib/python3.6/dist-packages (from requests-oauthlib>=0.7.0->google-auth-oauthlib<0.5,>=0.4.1->tensorboard<3,>=2.3.0->tensorflow<2.4,>=2.3.0->tensorflow_text==2.3) (3.1.0)\n",
            "Requirement already satisfied: pyasn1>=0.1.3 in /usr/local/lib/python3.6/dist-packages (from rsa<5,>=3.1.4; python_version >= \"3\"->google-auth<2,>=1.6.3->tensorboard<3,>=2.3.0->tensorflow<2.4,>=2.3.0->tensorflow_text==2.3) (0.4.8)\n",
            "Installing collected packages: tensorflow-text\n",
            "Successfully installed tensorflow-text-2.3.0\n"
          ],
          "name": "stdout"
        }
      ]
    },
    {
      "cell_type": "code",
      "metadata": {
        "id": "E12entNbSBuj",
        "outputId": "b915471f-f51b-4375-da14-24562587f7c2",
        "colab": {
          "base_uri": "https://localhost:8080/"
        }
      },
      "source": [
        "#Load packages\n",
        "import tensorflow as tf \n",
        "from tensorflow.keras.preprocessing.text import Tokenizer \n",
        "from tensorflow.keras.preprocessing.sequence import pad_sequences \n",
        "from sklearn import metrics, preprocessing,model_selection \n",
        "from sklearn.metrics import accuracy_score \n",
        "from tensorflow import keras\n",
        "from tensorflow.keras.layers import Input, Lambda, Dense \n",
        "from tensorflow.keras.models import Model \n",
        "import tensorflow.keras.backend as K \n",
        "import matplotlib.pyplot as pit \n",
        "import seaborn as sns\n",
        "import numpy as np \n",
        "import string \n",
        "import pandas as pd \n",
        "import re \n",
        "import spacy \n",
        "from nltk.corpus import stopwords \n",
        "from sklearn.feature_extraction.stop_words import ENGLISH_STOP_WORDS \n",
        "from spacy.lang.en import English \n",
        "spacy.load('en') \n",
        "parser = English()"
      ],
      "execution_count": null,
      "outputs": [
        {
          "output_type": "stream",
          "text": [
            "/usr/local/lib/python3.6/dist-packages/sklearn/utils/deprecation.py:144: FutureWarning: The sklearn.feature_extraction.stop_words module is  deprecated in version 0.22 and will be removed in version 0.24. The corresponding classes / functions should instead be imported from sklearn.feature_extraction.text. Anything that cannot be imported from sklearn.feature_extraction.text is now part of the private API.\n",
            "  warnings.warn(message, FutureWarning)\n"
          ],
          "name": "stderr"
        }
      ]
    },
    {
      "cell_type": "code",
      "metadata": {
        "id": "pHthsbyGsVXL"
      },
      "source": [
        "K= tf.compat.v1.keras.backend.get_session()"
      ],
      "execution_count": null,
      "outputs": []
    },
    {
      "cell_type": "code",
      "metadata": {
        "id": "LrP8jJaDQNql",
        "outputId": "5dd24565-520f-46c7-da42-5bedf5ca6003",
        "colab": {
          "base_uri": "https://localhost:8080/"
        }
      },
      "source": [
        "from google.colab import drive\n",
        "drive.mount('/content/drive')"
      ],
      "execution_count": null,
      "outputs": [
        {
          "output_type": "stream",
          "text": [
            "Mounted at /content/drive\n"
          ],
          "name": "stdout"
        }
      ]
    },
    {
      "cell_type": "markdown",
      "metadata": {
        "id": "ZnZd4aZwY8cM"
      },
      "source": [
        "##load Elmo"
      ]
    },
    {
      "cell_type": "code",
      "metadata": {
        "id": "jE_okjTsZAhH",
        "outputId": "98e66c97-2e73-497f-9fcc-418ebe7614d9",
        "colab": {
          "base_uri": "https://localhost:8080/"
        }
      },
      "source": [
        "# get elmo from tensorflow hub \n",
        "import tensorflow_hub as hub \n",
        "import tensorflow as tf \n",
        "\n",
        "embed = hub.load('https://tfhub.dev/google/nnlm-en-dim128/1')\n",
        "embed.signatures['default'](tf.convert_to_tensor(['my text', 'batch']))"
      ],
      "execution_count": null,
      "outputs": [
        {
          "output_type": "execute_result",
          "data": {
            "text/plain": [
              "{'default': <tf.Tensor: shape=(2, 128), dtype=float32, numpy=\n",
              " array([[ 0.06817301,  0.12772666,  0.04918525, -0.03550394, -0.04533052,\n",
              "          0.04868454,  0.00771219, -0.02631581, -0.16468817,  0.1887698 ,\n",
              "          0.01009648, -0.18591057,  0.05160484,  0.13291915,  0.01235215,\n",
              "         -0.00492161, -0.06701647, -0.01161232, -0.01099506,  0.21438217,\n",
              "          0.04877856, -0.10143851, -0.12461483, -0.00835736, -0.01975276,\n",
              "         -0.0518438 ,  0.0135941 ,  0.04147662, -0.14309719, -0.10322613,\n",
              "         -0.08090361, -0.01536523, -0.11944003, -0.04822929,  0.13167971,\n",
              "         -0.06830869, -0.04490855,  0.03839394,  0.0882614 ,  0.01578063,\n",
              "         -0.16467947, -0.09377561,  0.01380978, -0.04058216,  0.03929568,\n",
              "          0.09588426, -0.15572111, -0.15270787, -0.04349912, -0.0844278 ,\n",
              "          0.00472539,  0.01002582,  0.03455054,  0.0139303 , -0.11444485,\n",
              "         -0.07043104,  0.03757556, -0.00822732,  0.07750841, -0.02362585,\n",
              "          0.11321948, -0.02998928,  0.19748685,  0.16866075,  0.05818968,\n",
              "         -0.08720152,  0.02429257, -0.08923671,  0.04004676, -0.11712038,\n",
              "         -0.04423016,  0.00084125,  0.09887315, -0.10869319, -0.02063273,\n",
              "         -0.0078976 ,  0.03247038, -0.053636  , -0.06318824,  0.09211446,\n",
              "          0.06257474, -0.04052477, -0.02375481,  0.06692737,  0.01396037,\n",
              "         -0.00387887, -0.11007597, -0.02819042,  0.02156279, -0.03867229,\n",
              "          0.09522782,  0.03073994,  0.1777497 ,  0.07217226,  0.2552764 ,\n",
              "          0.00558206, -0.13917604, -0.01151034, -0.00699278, -0.00058617,\n",
              "         -0.12016475, -0.04845744,  0.00108416,  0.01308661, -0.08460812,\n",
              "          0.04146604, -0.02392333,  0.0211766 ,  0.01239127,  0.09751251,\n",
              "          0.08847063, -0.04759594, -0.14307027, -0.05373308,  0.06285188,\n",
              "         -0.06437098,  0.07693451, -0.10320926, -0.13538882,  0.02908451,\n",
              "         -0.01237198,  0.05219781, -0.02561041,  0.06948396,  0.05050331,\n",
              "         -0.0589957 ,  0.14204101,  0.05099661],\n",
              "        [ 0.01706688,  0.16787235,  0.09149991, -0.14499378, -0.08243445,\n",
              "          0.12357763,  0.01297838, -0.00048092,  0.0466181 ,  0.1043538 ,\n",
              "          0.02300307,  0.03475228, -0.04275631,  0.21015036, -0.02800887,\n",
              "         -0.05067778, -0.00960012, -0.01759498,  0.01835109, -0.07776673,\n",
              "         -0.03645713,  0.03972793, -0.03069391, -0.03422287, -0.16668513,\n",
              "         -0.04430129,  0.01050955, -0.04430391, -0.05041046,  0.01521919,\n",
              "         -0.00071418, -0.00097364,  0.19556542,  0.0457493 , -0.11583306,\n",
              "         -0.04204868,  0.04599042, -0.06314116, -0.10379948,  0.0802775 ,\n",
              "         -0.00482234, -0.02366483,  0.01422982, -0.1438511 ,  0.00452225,\n",
              "          0.00247407,  0.02109903,  0.05930688,  0.08789889, -0.09902695,\n",
              "          0.14681002, -0.09353893,  0.10695235,  0.00454453, -0.03457799,\n",
              "          0.05088221, -0.01846903, -0.10245369,  0.14374888, -0.10189284,\n",
              "          0.15101384, -0.00152795,  0.09687524,  0.06957269,  0.06327613,\n",
              "          0.03616752, -0.0828315 , -0.09079228, -0.01129711,  0.1017618 ,\n",
              "          0.0306166 , -0.01996683, -0.03714248, -0.00299824,  0.01350647,\n",
              "          0.00259201, -0.03050259,  0.01793307,  0.01617317,  0.07043888,\n",
              "          0.03073978, -0.02132967, -0.02019092,  0.02026299,  0.01462819,\n",
              "          0.01552583,  0.01370566, -0.11604404,  0.07736313,  0.00742614,\n",
              "         -0.19387761, -0.06397852, -0.00174941, -0.00899995, -0.00136152,\n",
              "         -0.12590362, -0.15958397,  0.07374638, -0.03661045,  0.18323964,\n",
              "          0.16642828, -0.01950032, -0.00106799, -0.20730937, -0.06857546,\n",
              "          0.11397488,  0.06187399,  0.22359262, -0.05364588, -0.14494267,\n",
              "         -0.03669563, -0.06828848, -0.12812346, -0.06980857,  0.24724436,\n",
              "         -0.07156715, -0.08053041, -0.06844967, -0.12146654,  0.1684804 ,\n",
              "          0.00748511, -0.18130283,  0.03431722, -0.14918843, -0.03616229,\n",
              "         -0.05937109, -0.00597944, -0.03736918]], dtype=float32)>}"
            ]
          },
          "metadata": {
            "tags": []
          },
          "execution_count": 5
        }
      ]
    },
    {
      "cell_type": "markdown",
      "metadata": {
        "id": "ETeG5NvTZBJI"
      },
      "source": [
        "## Pre-process Data"
      ]
    },
    {
      "cell_type": "code",
      "metadata": {
        "id": "KTTh1xSIZIzR",
        "outputId": "33b77b5a-12f4-4a0b-b8be-2745d9dfbed7",
        "colab": {
          "base_uri": "https://localhost:8080/"
        }
      },
      "source": [
        "# Stop words and special characters \n",
        "import nltk \n",
        "nltk.download('stopwords') \n",
        "\n",
        "STOPLIST = set(stopwords.words('english') + list(ENGLISH_STOP_WORDS)) \n",
        "SYMBOLS = \" \".join(string.punctuation).split(\" \") + [\"-\",\"...\",\"”\",\"''\"]"
      ],
      "execution_count": null,
      "outputs": [
        {
          "output_type": "stream",
          "text": [
            "[nltk_data] Downloading package stopwords to /root/nltk_data...\n",
            "[nltk_data]   Unzipping corpora/stopwords.zip.\n"
          ],
          "name": "stdout"
        }
      ]
    },
    {
      "cell_type": "code",
      "metadata": {
        "id": "cwN6tjzCa7Hl"
      },
      "source": [
        "#Data Cleaner and tokenizer \n",
        "def tokenizeText(text): \n",
        "  text = text.strip().replace(\"\\n\", \" \").replace(\"\\r\", \" \") \n",
        "  text = text.lower() \n",
        "  \n",
        "  tokens = parser(text) \n",
        "  #lematization\n",
        "  lemmas = [] \n",
        "  for tok in tokens:\n",
        "     lemmas.append(tok.lemma_.lower().strip() if tok.lemma_ != \"-PRON-\" else tok.lower_)\n",
        "  tokens = lemmas \n",
        "  #reomve stop words and special charaters \n",
        "  tokens = [tok for tok in tokens if tok.lower() not in STOPLIST] \n",
        "  tokens = [tok for tok in tokens if tok not in SYMBOLS] \n",
        "  \n",
        "  tokens = [tok for tok in tokens if len(tok) >= 3]\n",
        "  \n",
        "  #remove remaining tokens that are not alphabetic \n",
        "  tokens = [tok for tok in tokens if tok.isalpha()] \n",
        "  \n",
        "  tokens = list(set(tokens)) \n",
        "  \n",
        "  return ' '.join(tokens[:]) "
      ],
      "execution_count": null,
      "outputs": []
    },
    {
      "cell_type": "code",
      "metadata": {
        "id": "KtKqA7R2b3ih"
      },
      "source": [
        "def encode(le_enc, labels): \n",
        "  enc = le_enc.transform(labels) \n",
        "  return keras.utils.to_categorical(enc) \n",
        "\n",
        "def decode(le_enc, one_hot):\n",
        "   dec = np.argmax(one_hot, axis =1) \n",
        "   return le_enc.inverse_transform(dec) "
      ],
      "execution_count": null,
      "outputs": []
    },
    {
      "cell_type": "code",
      "metadata": {
        "id": "J9pw-LmCSOgc"
      },
      "source": [
        "# load the dataset \n",
        "import pandas as pd\n",
        "trainDF_Sheet_1 = pd.read_csv(\"/content/drive/My Drive/data/data_train.csv\")"
      ],
      "execution_count": null,
      "outputs": []
    },
    {
      "cell_type": "code",
      "metadata": {
        "id": "DzdZNMeSSQHP",
        "outputId": "ee2e1f82-8a23-46a4-ae21-afde718ad5fd",
        "colab": {
          "base_uri": "https://localhost:8080/",
          "height": 112
        }
      },
      "source": [
        "trainDF_Sheet_1.head(2) "
      ],
      "execution_count": null,
      "outputs": [
        {
          "output_type": "execute_result",
          "data": {
            "text/html": [
              "<div>\n",
              "<style scoped>\n",
              "    .dataframe tbody tr th:only-of-type {\n",
              "        vertical-align: middle;\n",
              "    }\n",
              "\n",
              "    .dataframe tbody tr th {\n",
              "        vertical-align: top;\n",
              "    }\n",
              "\n",
              "    .dataframe thead th {\n",
              "        text-align: right;\n",
              "    }\n",
              "</style>\n",
              "<table border=\"1\" class=\"dataframe\">\n",
              "  <thead>\n",
              "    <tr style=\"text-align: right;\">\n",
              "      <th></th>\n",
              "      <th>review</th>\n",
              "      <th>is_bad_review</th>\n",
              "    </tr>\n",
              "  </thead>\n",
              "  <tbody>\n",
              "    <tr>\n",
              "      <th>0</th>\n",
              "      <td>I am so angry that i made this post available...</td>\n",
              "      <td>1</td>\n",
              "    </tr>\n",
              "    <tr>\n",
              "      <th>1</th>\n",
              "      <td>No Negative No real complaints the hotel was g...</td>\n",
              "      <td>0</td>\n",
              "    </tr>\n",
              "  </tbody>\n",
              "</table>\n",
              "</div>"
            ],
            "text/plain": [
              "                                              review  is_bad_review\n",
              "0   I am so angry that i made this post available...              1\n",
              "1  No Negative No real complaints the hotel was g...              0"
            ]
          },
          "metadata": {
            "tags": []
          },
          "execution_count": 10
        }
      ]
    },
    {
      "cell_type": "code",
      "metadata": {
        "id": "u8adxxLUST8_",
        "outputId": "bcf50465-f9e2-461a-b6f6-783d82f6dacc",
        "colab": {
          "base_uri": "https://localhost:8080/"
        }
      },
      "source": [
        "trainDF_Sheet_1.shape "
      ],
      "execution_count": null,
      "outputs": [
        {
          "output_type": "execute_result",
          "data": {
            "text/plain": [
              "(515738, 2)"
            ]
          },
          "metadata": {
            "tags": []
          },
          "execution_count": 11
        }
      ]
    },
    {
      "cell_type": "code",
      "metadata": {
        "id": "3X1XPGCYSUSs",
        "outputId": "9d0859c6-ccf1-45cf-dffb-d47dde30c786",
        "colab": {
          "base_uri": "https://localhost:8080/"
        }
      },
      "source": [
        "trainDF_Sheet_1['review'].unique() "
      ],
      "execution_count": null,
      "outputs": [
        {
          "output_type": "execute_result",
          "data": {
            "text/plain": [
              "array([' I am so angry that i made this post available via all possible sites i use when planing my trips so no one will make the mistake of booking this place I made my booking via booking com We stayed for 6 nights in this hotel from 11 to 17 July Upon arrival we were placed in a small room on the 2nd floor of the hotel It turned out that this was not the room we booked I had specially reserved the 2 level duplex room so that we would have a big windows and high ceilings The room itself was ok if you don t mind the broken window that can not be closed hello rain and a mini fridge that contained some sort of a bio weapon at least i guessed so by the smell of it I intimately asked to change the room and after explaining 2 times that i booked a duplex btw it costs the same as a simple double but got way more volume due to the high ceiling was offered a room but only the next day SO i had to check out the next day before 11 o clock in order to get the room i waned to Not the best way to begin your holiday So we had to wait till 13 00 in order to check in my new room what a wonderful waist of my time The room 023 i got was just as i wanted to peaceful internal garden view big window We were tired from waiting the room so we placed our belongings and rushed to the city In the evening it turned out that there was a constant noise in the room i guess it was made by vibrating vent tubes or something it was constant and annoying as hell AND it did not stop even at 2 am making it hard to fall asleep for me and my wife I have an audio recording that i can not attach here but if you want i can send it via e mail The next day the technician came but was not able to determine the cause of the disturbing sound so i was offered to change the room once again the hotel was fully booked and they had only 1 room left the one that was smaller but seems newer  Only the park outside of the hotel was beautiful ',\n",
              "       'No Negative No real complaints the hotel was great great location surroundings rooms amenities and service Two recommendations however firstly the staff upon check in are very confusing regarding deposit payments and the staff offer you upon checkout to refund your original payment and you can make a new one Bit confusing Secondly the on site restaurant is a bit lacking very well thought out and excellent quality food for anyone of a vegetarian or vegan background but even a wrap or toasted sandwich option would be great Aside from those minor minor things fantastic spot and will be back when i return to Amsterdam ',\n",
              "       ' Rooms are nice but for elderly a bit difficult as most rooms are two story with narrow steps So ask for single level Inside the rooms are very very basic just tea coffee and boiler and no bar empty fridge  Location was good and staff were ok It is cute hotel the breakfast range is nice Will go back ',\n",
              "       ...,\n",
              "       ' The ac was useless It was a hot week in vienna and it only gave more hot airNo Positive',\n",
              "       'No Negative The rooms are enormous and really comfortable I believe that a family of 5 members could be more than comfy in these spaces ',\n",
              "       ' I was in 3rd floor It didn t work Free Wife  staff was very kind '],\n",
              "      dtype=object)"
            ]
          },
          "metadata": {
            "tags": []
          },
          "execution_count": 12
        }
      ]
    },
    {
      "cell_type": "code",
      "metadata": {
        "id": "TWwr5eOxSUpV",
        "outputId": "3a551849-adef-4b06-9913-d2ce46122222",
        "colab": {
          "base_uri": "https://localhost:8080/"
        }
      },
      "source": [
        "trainDF_Sheet_1['review'].value_counts() "
      ],
      "execution_count": null,
      "outputs": [
        {
          "output_type": "execute_result",
          "data": {
            "text/plain": [
              "No Negative Location                                                                                                                                                                                                                                                                                                                                                                                                                                                                                                                                                                                                                                                       1009\n",
              " Nothing Everything                                                                                                                                                                                                                                                                                                                                                                                                                                                                                                                                                                                                                                                         940\n",
              "No Negative Everything                                                                                                                                                                                                                                                                                                                                                                                                                                                                                                                                                                                                                                                      593\n",
              "No Negative Great location                                                                                                                                                                                                                                                                                                                                                                                                                                                                                                                                                                                                                                                  256\n",
              "No Negative Everything                                                                                                                                                                                                                                                                                                                                                                                                                                                                                                                                                                                                                                                      204\n",
              "                                                                                                                                                                                                                                                                                                                                                                                                                                                                                                                                                                                                                                                                           ... \n",
              " Wasn t made clear how easy it was to get the C10 bus directly to the property from Canada Water so we had a very expensive taxi that took us to the wrong Hilton through the Rotherhithe tunnel  The deluxe rooms overlooking the Thames have great views You can also open the windows properly so the room stays cool and fresh Ferry great for getting across to the City and the restaurants                                                                                                                                                                                                                                                                             1\n",
              " The room should be a bigger  Very clean Excelent breakfast in luxury tableware and pleasant atmosphere                                                                                                                                                                                                                                                                                                                                                                                                                                                                                                                                                                       1\n",
              " The hotel didn t provide water no kettle This is inconvenient as I had to buy my own water it s heavy My room was not replenish with new smaller towels and I wonder why This is the part that annoy me  The front desk staff are very helpful provided excellent service They even have the same name I forgot though They re cheerful always smile The concierge Mr Maximus is very patience and explained carefully when I booked the outlet shopping The restaurant kitchen staff are very efficient helpful when I ordered take away before leaving for airport since the place not open yet I was there earlier Thank you for such wonderful service experience        1\n",
              " Booked mezzanine but beam jsb so low that we had to ask to move for fear of nasty accident New room smallish but charged same price  Reception very helpful in moving room Breakfast was better than expected                                                                                                                                                                                                                                                                                                                                                                                                                                                                1\n",
              " Understaffed at breakfast so food options weren t kept topped up Lift far too small Shower not as good as it looked  Stylish reasonably priced drinks for a London hotel easy walking distance to the Eye and National Theatre                                                                                                                                                                                                                                                                                                                                                                                                                                               1\n",
              "Name: review, Length: 499288, dtype: int64"
            ]
          },
          "metadata": {
            "tags": []
          },
          "execution_count": 13
        }
      ]
    },
    {
      "cell_type": "code",
      "metadata": {
        "id": "pbzQwIIKTE4I"
      },
      "source": [
        "# model parameters\n",
        "\n",
        "vocab_size = 1000\n",
        "embedding_dim = 256\n",
        "max_length = 512\n",
        "trunc_type='post'\n",
        "padding_type='post'\n",
        "oov_tok = \"<00V>\"\n",
        "training_portion = .7"
      ],
      "execution_count": null,
      "outputs": []
    },
    {
      "cell_type": "code",
      "metadata": {
        "id": "ThxjnKWgTFT3"
      },
      "source": [
        "# train test split\n",
        "# ---------- \n",
        "              \n",
        "# proportion of training dataset\n",
        "train_size = int(trainDF_Sheet_1.shape[0] * training_portion)\n",
        "\n",
        "# training dataset\n",
        "train_sentences = trainDF_Sheet_1['review'][:train_size]\n",
        "train_labels = trainDF_Sheet_1['is_bad_review'][:train_size]\n",
        "\n",
        "# validation dataset\n",
        "validation_sentences = trainDF_Sheet_1['review'][train_size: ]\n",
        "validation_labels = trainDF_Sheet_1['is_bad_review'][train_size: ]"
      ],
      "execution_count": null,
      "outputs": []
    },
    {
      "cell_type": "code",
      "metadata": {
        "id": "bS_C32UnXnQF",
        "outputId": "382ea0e0-4194-4e46-a9ed-1a1d84004233",
        "colab": {
          "base_uri": "https://localhost:8080/"
        }
      },
      "source": [
        "from nltk.tokenize import word_tokenize\n",
        "nltk.download('punkt')\n",
        "def padd(sentence):\n",
        "    arr=word_tokenize(sentence)\n",
        "    for i in range(1000-len(arr)):\n",
        "        arr.append('null')\n",
        "    return arr[:1000]"
      ],
      "execution_count": null,
      "outputs": [
        {
          "output_type": "stream",
          "text": [
            "[nltk_data] Downloading package punkt to /root/nltk_data...\n",
            "[nltk_data]   Unzipping tokenizers/punkt.zip.\n"
          ],
          "name": "stdout"
        }
      ]
    },
    {
      "cell_type": "code",
      "metadata": {
        "id": "w7MYGF5rbPeA"
      },
      "source": [
        "y_test = trainDF_Sheet_1[\"is_bad_review\"]\n",
        "train_sentences = trainDF_Sheet_1[\"review\"]\n",
        "train_data=[padd(each_sentence) for each_sentence in train_sentences[:1000]]"
      ],
      "execution_count": null,
      "outputs": []
    },
    {
      "cell_type": "code",
      "metadata": {
        "id": "9eGcYHAFcTdn"
      },
      "source": [
        "# for i in range(0,len(train_sentences),10000):\n",
        "training_embed=([embed.signatures['default'](tf.convert_to_tensor(each_sentence))['default'] for each_sentence in train_data])"
      ],
      "execution_count": null,
      "outputs": []
    },
    {
      "cell_type": "code",
      "metadata": {
        "id": "fMpB3CJpNGoe",
        "outputId": "795c86a8-432b-45e6-b1ce-c671fcb6110b",
        "colab": {
          "base_uri": "https://localhost:8080/"
        }
      },
      "source": [
        "len(training_embed[0][0])"
      ],
      "execution_count": null,
      "outputs": [
        {
          "output_type": "execute_result",
          "data": {
            "text/plain": [
              "128"
            ]
          },
          "metadata": {
            "tags": []
          },
          "execution_count": 19
        }
      ]
    },
    {
      "cell_type": "markdown",
      "metadata": {
        "id": "ol72xug2UbO2"
      },
      "source": [
        "## With cnn"
      ]
    },
    {
      "cell_type": "code",
      "metadata": {
        "id": "v9XLRpCjUgMF",
        "outputId": "a68fdba0-4558-4a0b-d851-68c6a860c6e5",
        "colab": {
          "base_uri": "https://localhost:8080/"
        }
      },
      "source": [
        "\n",
        "#   return model\n",
        "model = tf.keras.Sequential([\n",
        "  tf.keras.layers.Conv1D(128, 5, activation='relu'),\n",
        "  tf.keras.layers.GlobalMaxPooling1D(),\n",
        "  tf.keras.layers.Dense(24, activation='relu'),\n",
        "  tf.keras.layers.Dense(1, activation='sigmoid')\n",
        "])\n",
        "\n",
        "# compile model\n",
        "model.compile(loss='binary_crossentropy', optimizer='adam',\n",
        "   metrics=['accuracy'])\n",
        "model.build(input_shape=[len(training_embed),1000,128])\n",
        "\n",
        "# model summary\n",
        "model.summary ()"
      ],
      "execution_count": null,
      "outputs": [
        {
          "output_type": "stream",
          "text": [
            "Model: \"sequential\"\n",
            "_________________________________________________________________\n",
            "Layer (type)                 Output Shape              Param #   \n",
            "=================================================================\n",
            "conv1d (Conv1D)              (1000, 996, 128)          82048     \n",
            "_________________________________________________________________\n",
            "global_max_pooling1d (Global (1000, 128)               0         \n",
            "_________________________________________________________________\n",
            "dense (Dense)                (1000, 24)                3096      \n",
            "_________________________________________________________________\n",
            "dense_1 (Dense)              (1000, 1)                 25        \n",
            "=================================================================\n",
            "Total params: 85,169\n",
            "Trainable params: 85,169\n",
            "Non-trainable params: 0\n",
            "_________________________________________________________________\n"
          ],
          "name": "stdout"
        }
      ]
    },
    {
      "cell_type": "code",
      "metadata": {
        "id": "J0gCBCIBVoAz",
        "outputId": "599a9c50-0006-45c2-dac6-548dd7b683f9",
        "colab": {
          "base_uri": "https://localhost:8080/"
        }
      },
      "source": [
        "\n",
        "num_epochs = 10\n",
        "\n",
        "history = model.fit(np.array(training_embed), np.array(y_test[:1000]),\n",
        "   epochs=num_epochs,verbose=1)\n",
        "\n",
        "model.save_weights('./response-elmo-model.h5')"
      ],
      "execution_count": null,
      "outputs": [
        {
          "output_type": "stream",
          "text": [
            "Epoch 1/10\n",
            "32/32 [==============================] - 8s 236ms/step - loss: 0.2827 - accuracy: 0.9190\n",
            "Epoch 2/10\n",
            "32/32 [==============================] - 7s 231ms/step - loss: 0.1801 - accuracy: 0.9520\n",
            "Epoch 3/10\n",
            "32/32 [==============================] - 7s 231ms/step - loss: 0.1726 - accuracy: 0.9520\n",
            "Epoch 4/10\n",
            "32/32 [==============================] - 7s 231ms/step - loss: 0.1545 - accuracy: 0.9520\n",
            "Epoch 5/10\n",
            "32/32 [==============================] - 7s 232ms/step - loss: 0.1331 - accuracy: 0.9520\n",
            "Epoch 6/10\n",
            "32/32 [==============================] - 7s 233ms/step - loss: 0.1071 - accuracy: 0.9520\n",
            "Epoch 7/10\n",
            "32/32 [==============================] - 7s 234ms/step - loss: 0.0804 - accuracy: 0.9530\n",
            "Epoch 8/10\n",
            "32/32 [==============================] - 7s 234ms/step - loss: 0.0549 - accuracy: 0.9760\n",
            "Epoch 9/10\n",
            "32/32 [==============================] - 8s 236ms/step - loss: 0.0337 - accuracy: 0.9940\n",
            "Epoch 10/10\n",
            "32/32 [==============================] - 7s 234ms/step - loss: 0.0202 - accuracy: 0.9990\n"
          ],
          "name": "stdout"
        }
      ]
    },
    {
      "cell_type": "code",
      "metadata": {
        "id": "Ekxt1faCZqnZ",
        "outputId": "fd438c6a-4c7a-4929-db80-f0aa265bf668",
        "colab": {
          "base_uri": "https://localhost:8080/"
        }
      },
      "source": [
        "print(history.history)"
      ],
      "execution_count": null,
      "outputs": [
        {
          "output_type": "stream",
          "text": [
            "{'loss': [0.2827097475528717, 0.18007420003414154, 0.1725819706916809, 0.15453478693962097, 0.1330624222755432, 0.10710322856903076, 0.08044683188199997, 0.05485148727893829, 0.033730436116456985, 0.020218733698129654], 'accuracy': [0.9190000295639038, 0.9520000219345093, 0.9520000219345093, 0.9520000219345093, 0.9520000219345093, 0.9520000219345093, 0.953000009059906, 0.9760000109672546, 0.9940000176429749, 0.9990000128746033]}\n"
          ],
          "name": "stdout"
        }
      ]
    },
    {
      "cell_type": "markdown",
      "metadata": {
        "id": "p82jF9cVeuVq"
      },
      "source": [
        "**Predicting output from model**"
      ]
    },
    {
      "cell_type": "code",
      "metadata": {
        "id": "buG5jCwQTzm1"
      },
      "source": [
        "# # # tokenizing, sequencing, padding features        \n",
        "tokenizer = Tokenizer(num_words = vocab_size, oov_token=oov_tok)\n",
        "tokenizer.fit_on_texts(train_sentences)\n",
        "word_index = tokenizer.word_index\n",
        "y_test = trainDF_Sheet_1[\"is_bad_review\"]\n",
        "train_sentences = trainDF_Sheet_1[\"review\"]\n",
        "\n",
        "train_sequences = tokenizer.texts_to_sequences(train_sentences)\n",
        "train_padded = pad_sequences(train_sequences, padding=padding_type, maxlen=max_length)\n",
        "train_data=tokenizer.sequences_to_texts(train_padded)"
      ],
      "execution_count": null,
      "outputs": []
    },
    {
      "cell_type": "code",
      "metadata": {
        "id": "wz7j69rhYLa_"
      },
      "source": [
        "#print(train_padded)\n",
        "prediction = model.predict(np.array(training_embed))"
      ],
      "execution_count": null,
      "outputs": []
    },
    {
      "cell_type": "code",
      "metadata": {
        "id": "edQpmflqKfwI"
      },
      "source": [
        "y_pred = (prediction > 0.5)\n",
        "validation_sequences = tokenizer.texts_to_sequences(validation_sentences)\n",
        "validation_padded = pad_sequences(validation_sequences, padding=padding_type, maxlen=max_length)"
      ],
      "execution_count": null,
      "outputs": []
    },
    {
      "cell_type": "code",
      "metadata": {
        "id": "fmjqcm7wRpHw",
        "outputId": "5195bd12-2d73-4799-cecb-5b84a5bc45e5",
        "colab": {
          "base_uri": "https://localhost:8080/"
        }
      },
      "source": [
        "y_test = (y_test[:1000])"
      ],
      "execution_count": null,
      "outputs": [
        {
          "output_type": "stream",
          "text": [
            "1000\n",
            "1000\n"
          ],
          "name": "stdout"
        }
      ]
    },
    {
      "cell_type": "markdown",
      "metadata": {
        "id": "vqfrMdqZfLjY"
      },
      "source": [
        "**Calculating Precision , Recall ,Accuracy ,Confusion Matrix and Graph**"
      ]
    },
    {
      "cell_type": "code",
      "metadata": {
        "id": "ly6ISFQKWCf3",
        "outputId": "19eabf9b-15c0-4d14-f2c0-48cc9ee6a73a",
        "colab": {
          "base_uri": "https://localhost:8080/"
        }
      },
      "source": [
        "from sklearn.metrics import f1_score, precision_score, recall_score, confusion_matrix,accuracy_score\n",
        "print(\"F1-score: {0}\".format(f1_score(y_pred, y_test)))\n",
        "print(\"Precision: \",precision_score(y_pred, y_test))\n",
        "print(\"Recall: \",recall_score(y_pred, y_test))\n",
        "print(\"Accuracy: \",accuracy_score(y_pred,y_test))\n",
        "print(\"Confusion matrix: \")\n",
        "confusion_matrix(y_pred, y_test)"
      ],
      "execution_count": null,
      "outputs": [
        {
          "output_type": "stream",
          "text": [
            "F1-score: 0.9894736842105264\n",
            "Precision:  0.9791666666666666\n",
            "Recall:  1.0\n",
            "Accuracy:  0.999\n",
            "Confusion matrix: \n"
          ],
          "name": "stdout"
        },
        {
          "output_type": "execute_result",
          "data": {
            "text/plain": [
              "array([[952,   1],\n",
              "       [  0,  47]])"
            ]
          },
          "metadata": {
            "tags": []
          },
          "execution_count": 85
        }
      ]
    },
    {
      "cell_type": "code",
      "metadata": {
        "id": "ND6OMLrtWM9b",
        "outputId": "8c3901c9-24da-4da9-9f31-7db92d3214fb",
        "colab": {
          "base_uri": "https://localhost:8080/",
          "height": 334
        }
      },
      "source": [
        " # accuracy and loss\n",
        "from matplotlib.pyplot import *\n",
        "import matplotlib.pyplot as plt\n",
        "\n",
        "plt.figure(figsize=(10, 5))\n",
        "\n",
        "plt.subplot(1, 2, 1)\n",
        "plt.plot(history.history['accuracy'], label='Training Accuracy')\n",
        "plt.xlabel(\"Epochs\")\n",
        "plt.ylabel('Accuracy')\n",
        "plt.legend()\n",
        "\n",
        "plt.subplot(1, 2, 2)\n",
        "plt.plot(history.history['loss'], label='Training Loss')\n",
        "plt.xlabel(\"Epochs\")\n",
        "plt.ylabel('Loss')\n",
        "plt.legend()\n",
        "\n",
        "plt.show()"
      ],
      "execution_count": null,
      "outputs": [
        {
          "output_type": "display_data",
          "data": {
            "image/png": "[encoded data removed]",
            "text/plain": [
              "<Figure size 720x360 with 2 Axes>"
            ]
          },
          "metadata": {
            "tags": [],
            "needs_background": "light"
          }
        }
      ]
    },
    {
      "cell_type": "markdown",
      "metadata": {
        "id": "A0p8kMbCXgKk"
      },
      "source": [
        "## With RNN"
      ]
    },
    {
      "cell_type": "code",
      "metadata": {
        "id": "ZZmWWFCPXeOj",
        "outputId": "4bc6a2d0-4df8-48e1-8e15-5aef613b496d",
        "colab": {
          "base_uri": "https://localhost:8080/"
        }
      },
      "source": [
        "# model initialization\n",
        "model = tf.keras.Sequential([\n",
        "  tf.keras.layers.Bidirectional(tf.keras.layers.LSTM(100)),\n",
        "  tf.keras.layers.Dense(24, activation='relu'),\n",
        "  tf.keras.layers.Dense(1, activation='sigmoid' )\n",
        "])\n",
        "\n",
        "# compile model\n",
        "model.compile(loss='binary_crossentropy',\n",
        "              optimizer='adam',\n",
        "              metrics=['accuracy'])\n",
        "\n",
        "model.build(input_shape=[len(training_embed),1000,128])\n",
        "\n",
        "# model summary\n",
        "model.summary()"
      ],
      "execution_count": null,
      "outputs": [
        {
          "output_type": "stream",
          "text": [
            "Model: \"sequential\"\n",
            "_________________________________________________________________\n",
            "Layer (type)                 Output Shape              Param #   \n",
            "=================================================================\n",
            "bidirectional (Bidirectional (1000, 200)               183200    \n",
            "_________________________________________________________________\n",
            "dense (Dense)                (1000, 24)                4824      \n",
            "_________________________________________________________________\n",
            "dense_1 (Dense)              (1000, 1)                 25        \n",
            "=================================================================\n",
            "Total params: 188,049\n",
            "Trainable params: 188,049\n",
            "Non-trainable params: 0\n",
            "_________________________________________________________________\n"
          ],
          "name": "stdout"
        }
      ]
    },
    {
      "cell_type": "code",
      "metadata": {
        "id": "WtsqTaDzYh5A",
        "outputId": "5d514ecf-9be7-4246-8e5c-7e6940941b05",
        "colab": {
          "base_uri": "https://localhost:8080/"
        }
      },
      "source": [
        "num_epochs = 8\n",
        "\n",
        "history = model.fit(np.array(training_embed), np.array(y_test[:1000]),\n",
        "   epochs=num_epochs,verbose=1)\n",
        "\n",
        "model.save_weights('/content/drive/My Drive/response-rnn-elmo-model.h5')"
      ],
      "execution_count": null,
      "outputs": [
        {
          "output_type": "stream",
          "text": [
            "Epoch 1/8\n",
            "32/32 [==============================] - 3s 78ms/step - loss: 0.2835 - accuracy: 0.9380\n",
            "Epoch 2/8\n",
            "32/32 [==============================] - 2s 74ms/step - loss: 0.1905 - accuracy: 0.9520\n",
            "Epoch 3/8\n",
            "32/32 [==============================] - 2s 75ms/step - loss: 0.1862 - accuracy: 0.9520\n",
            "Epoch 4/8\n",
            "32/32 [==============================] - 2s 76ms/step - loss: 0.1810 - accuracy: 0.9520\n",
            "Epoch 5/8\n",
            "32/32 [==============================] - 2s 75ms/step - loss: 0.1750 - accuracy: 0.9520\n",
            "Epoch 6/8\n",
            "32/32 [==============================] - 2s 76ms/step - loss: 0.1580 - accuracy: 0.9520\n",
            "Epoch 7/8\n",
            "32/32 [==============================] - 2s 76ms/step - loss: 0.1418 - accuracy: 0.9510\n",
            "Epoch 8/8\n",
            "32/32 [==============================] - 2s 74ms/step - loss: 0.1260 - accuracy: 0.9540\n"
          ],
          "name": "stdout"
        }
      ]
    },
    {
      "cell_type": "code",
      "metadata": {
        "id": "R--Ov9VgWut4"
      },
      "source": [
        "model.load_weights('/content/drive/My Drive/response-rnn-elmo-model.h5')"
      ],
      "execution_count": null,
      "outputs": []
    },
    {
      "cell_type": "code",
      "metadata": {
        "id": "dK9sOaOHVnSX"
      },
      "source": [
        "y_test = (y_test[:1000])"
      ],
      "execution_count": null,
      "outputs": []
    },
    {
      "cell_type": "code",
      "metadata": {
        "id": "rKmFEQ-MffkN"
      },
      "source": [
        "prediction = model.predict(np.array(training_embed))"
      ],
      "execution_count": null,
      "outputs": []
    },
    {
      "cell_type": "code",
      "metadata": {
        "id": "iuj6-mNtVYq9"
      },
      "source": [
        "y_pred = (prediction > 0.5)"
      ],
      "execution_count": null,
      "outputs": []
    },
    {
      "cell_type": "code",
      "metadata": {
        "id": "nEyqFDRKZAX-",
        "outputId": "9abbcd12-d23f-4dd3-a3be-96c33ea1d0b3",
        "colab": {
          "base_uri": "https://localhost:8080/"
        }
      },
      "source": [
        "from sklearn.metrics import f1_score, precision_score, recall_score, confusion_matrix,accuracy_score\n",
        "print(\"F1-score: {0}\".format(f1_score(y_pred, y_test)))\n",
        "print(\"Precision: \",precision_score(y_pred, y_test))\n",
        "print(\"Recall: \",recall_score(y_pred, y_test))\n",
        "print(\"Accuracy: \",accuracy_score(y_pred,y_test))\n",
        "print(\"Confusion matrix: \")\n",
        "confusion_matrix(y_pred, y_test)"
      ],
      "execution_count": null,
      "outputs": [
        {
          "output_type": "stream",
          "text": [
            "F1-score: 0.07999999999999999\n",
            "Precision:  0.041666666666666664\n",
            "Recall:  1.0\n",
            "Accuracy:  0.954\n",
            "Confusion matrix: \n"
          ],
          "name": "stdout"
        },
        {
          "output_type": "execute_result",
          "data": {
            "text/plain": [
              "array([[952,  46],\n",
              "       [  0,   2]])"
            ]
          },
          "metadata": {
            "tags": []
          },
          "execution_count": 27
        }
      ]
    },
    {
      "cell_type": "code",
      "metadata": {
        "id": "b59k1-eoZ5gK",
        "outputId": "51aedfae-2dc5-46d5-8e48-ff04daf6f342",
        "colab": {
          "base_uri": "https://localhost:8080/",
          "height": 334
        }
      },
      "source": [
        " # accuracy and loss\n",
        "from matplotlib.pyplot import *\n",
        "import matplotlib.pyplot as plt\n",
        "\n",
        "plt.figure(figsize=(10, 5))\n",
        "\n",
        "plt.subplot(1, 2, 1)\n",
        "plt.plot(history.history['accuracy'], label='Training Accuracy')\n",
        "plt.xlabel(\"Epochs\")\n",
        "plt.ylabel('Accuracy')\n",
        "plt.legend()\n",
        "\n",
        "plt.subplot(1, 2, 2)\n",
        "plt.plot(history.history['loss'], label='Training Loss')\n",
        "plt.xlabel(\"Epochs\")\n",
        "plt.ylabel('Loss')\n",
        "plt.legend()\n",
        "\n",
        "plt.show()"
      ],
      "execution_count": null,
      "outputs": [
        {
          "output_type": "display_data",
          "data": {
            "image/png": "[encoded data removed]",
            "text/plain": [
              "<Figure size 720x360 with 2 Axes>"
            ]
          },
          "metadata": {
            "tags": [],
            "needs_background": "light"
          }
        }
      ]
    }
  ]
}